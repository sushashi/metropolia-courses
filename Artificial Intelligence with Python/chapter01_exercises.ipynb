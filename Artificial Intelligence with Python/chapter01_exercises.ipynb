{
 "cells": [
  {
   "cell_type": "markdown",
   "metadata": {},
   "source": [
    "# Chapter 1: Python Quick Recap\n",
    "## Programming exercises\n",
    "### Exercise 1"
   ]
  },
  {
   "cell_type": "code",
   "execution_count": 8,
   "metadata": {},
   "outputs": [
    {
     "name": "stdout",
     "output_type": "stream",
     "text": [
      "write something\n",
      "Too Short\n"
     ]
    }
   ],
   "source": [
    "def main():\n",
    "\twhile True:\n",
    "\t\twords = input(\"Write something (quit ends):\")\n",
    "\t\tif words == \"quit\":\n",
    "\t\t\tbreak\n",
    "\t\tif len(words) < 10:\n",
    "\t\t\ttester()\n",
    "\t\telse:\n",
    "\t\t\ttester(words)\n",
    "\n",
    "def tester(givenstring=\"Too Short\"):\n",
    "\tprint(givenstring)\n",
    "\n",
    "main()"
   ]
  },
  {
   "cell_type": "markdown",
   "metadata": {},
   "source": [
    "### Exercise 2"
   ]
  },
  {
   "cell_type": "code",
   "execution_count": 9,
   "metadata": {},
   "outputs": [
    {
     "name": "stdout",
     "output_type": "stream",
     "text": [
      "The following items remain in the list:\n",
      "blabla\n",
      "fsdsdffds\n"
     ]
    }
   ],
   "source": [
    "LIST = []\n",
    "\n",
    "def asker():\n",
    "    question = '''\n",
    "    Would you like to\n",
    "    (1)Add or\n",
    "    (2)Remove items or\n",
    "    (3)Quit?: '''\n",
    "    nb = input(question)\n",
    "    return int(nb)\n",
    "\n",
    "def tester(nb):\n",
    "    if nb == 1:\n",
    "        adder()\n",
    "    elif nb == 2:\n",
    "        deleter()\n",
    "    elif nb == 3:\n",
    "        print(\"The following items remain in the list:\")\n",
    "        for l in LIST:\n",
    "            print(l)\n",
    "    \n",
    "def adder():\n",
    "    tobeadded = input(\"What will be added?: \")\n",
    "    LIST.append(tobeadded)\n",
    "\n",
    "def deleter():\n",
    "    l = len(LIST)\n",
    "    print(\"There are {} items in the list.\".format(l))\n",
    "    nb_delete = int(input(\"Which item is deleted?: \"))\n",
    "    if nb_delete < l:\n",
    "        del LIST[nb_delete]\n",
    "    else:\n",
    "        print(\"Incorrect selection.\")\n",
    "\n",
    "\n",
    "def main():\n",
    "    while True:\n",
    "        nb = asker()\n",
    "        if nb not in [1,2,3]:\n",
    "            print(\"Incorrect selection.\")\n",
    "        else:\n",
    "            tester(nb)\n",
    "            if nb == 3:\n",
    "                break\n",
    "\n",
    "main()"
   ]
  },
  {
   "cell_type": "markdown",
   "metadata": {},
   "source": [
    "### Exercise 3"
   ]
  },
  {
   "cell_type": "code",
   "execution_count": 10,
   "metadata": {},
   "outputs": [
    {
     "name": "stdout",
     "output_type": "stream",
     "text": [
      "[0, 3, 4, 5, 9]\n"
     ]
    }
   ],
   "source": [
    "def bubble_sort(L):\n",
    "    length = len(L)\n",
    "    for i in range(length-1):\n",
    "        for j in range(length-1-i):\n",
    "            if L[j] > L[j+1]:\n",
    "                L[j], L[j+1] = L[j+1], L[j]\n",
    "    return L\n",
    "\n",
    "a = [3, 5, 0, 4, 9,]\n",
    "print(bubble_sort(a))"
   ]
  },
  {
   "cell_type": "markdown",
   "metadata": {},
   "source": [
    "### Exercise 4"
   ]
  },
  {
   "cell_type": "code",
   "execution_count": 11,
   "metadata": {},
   "outputs": [
    {
     "name": "stdout",
     "output_type": "stream",
     "text": [
      "Supermarket\n",
      "===========\n",
      "Product: 1 Price: 10\n",
      "Product: 2 Price: 14\n",
      "Product: 3 Price: 22\n",
      "Product: 4 Price: 33\n",
      "Total: 79\n",
      "Change: 21\n"
     ]
    }
   ],
   "source": [
    "total = 0\n",
    "prices = [10,14,22,33,44,13,22,55,66,77]\n",
    "\n",
    "def addsum(nb):\n",
    "    global total\n",
    "    total += prices[nb-1]\n",
    "    print(\"Product: {} Price: {}\".format(nb, prices[nb-1]))\n",
    "\n",
    "def pay():\n",
    "    print(\"Total: {}\".format(total))\n",
    "    payment = int(input(\"Payment: \"))\n",
    "    print(\"Change: {}\".format(payment-total))\n",
    "\n",
    "\n",
    "def main():\n",
    "    print(\"Supermarket\")\n",
    "    print(\"===========\")\n",
    "    while True:\n",
    "        nb = int(input(\"Please select product (1-10) 0 to Quit: \"))\n",
    "        if nb == 0:\n",
    "            pay()\n",
    "            break\n",
    "        else:\n",
    "            addsum(nb)\n",
    "\n",
    "main()"
   ]
  },
  {
   "cell_type": "markdown",
   "metadata": {},
   "source": [
    "### Exercise 5"
   ]
  },
  {
   "cell_type": "code",
   "execution_count": 12,
   "metadata": {},
   "outputs": [
    {
     "name": "stdout",
     "output_type": "stream",
     "text": [
      "this,is,a,nice,sentence\n",
      "this\n",
      "is\n",
      "a\n",
      "nice\n",
      "sentence\n"
     ]
    }
   ],
   "source": [
    "def my_split(s,x):\n",
    "    return s.split(x)\n",
    "\n",
    "def my_join(L,x):\n",
    "    return x.join(L)\n",
    "\n",
    "sentence = str(input(\"Please enter sentence:\"))\n",
    "print(my_join(my_split(sentence,' '),','))\n",
    "print(my_join(my_split(sentence,' '),'\\n'))"
   ]
  }
 ],
 "metadata": {
  "kernelspec": {
   "display_name": "base",
   "language": "python",
   "name": "python3"
  },
  "language_info": {
   "codemirror_mode": {
    "name": "ipython",
    "version": 3
   },
   "file_extension": ".py",
   "mimetype": "text/x-python",
   "name": "python",
   "nbconvert_exporter": "python",
   "pygments_lexer": "ipython3",
   "version": "3.11.9"
  }
 },
 "nbformat": 4,
 "nbformat_minor": 2
}

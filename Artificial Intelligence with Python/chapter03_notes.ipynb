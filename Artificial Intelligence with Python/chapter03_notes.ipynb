{
 "cells": [
  {
   "cell_type": "markdown",
   "metadata": {},
   "source": [
    "# Chapter 3: AI Short introduction\n",
    "\n",
    "... Theory ...\n",
    "\n",
    "## Datasets for machine learning (pandas library)\n",
    "\n",
    "Using the infamous iris.csv dataset to introduce the pandas library."
   ]
  },
  {
   "cell_type": "code",
   "execution_count": 1,
   "metadata": {},
   "outputs": [],
   "source": [
    "import pandas as pd\n",
    "import os\n",
    "\n",
    "path = os.path.join(os.getcwd() , \"data/iris.csv\")\n",
    "df = pd.read_csv(path)"
   ]
  },
  {
   "cell_type": "markdown",
   "metadata": {},
   "source": [
    "`head()`, `tail()` and `describe()` to have a look at the data"
   ]
  },
  {
   "cell_type": "code",
   "execution_count": 2,
   "metadata": {},
   "outputs": [
    {
     "name": "stdout",
     "output_type": "stream",
     "text": [
      "   sepal.length  sepal.width  petal.length  petal.width variety\n",
      "0           5.1          3.5           1.4          0.2  Setosa\n",
      "1           4.9          3.0           1.4          0.2  Setosa\n",
      "2           4.7          3.2           1.3          0.2  Setosa\n",
      "3           4.6          3.1           1.5          0.2  Setosa\n",
      "4           5.0          3.6           1.4          0.2  Setosa\n",
      "     sepal.length  sepal.width  petal.length  petal.width    variety\n",
      "145           6.7          3.0           5.2          2.3  Virginica\n",
      "146           6.3          2.5           5.0          1.9  Virginica\n",
      "147           6.5          3.0           5.2          2.0  Virginica\n",
      "148           6.2          3.4           5.4          2.3  Virginica\n",
      "149           5.9          3.0           5.1          1.8  Virginica\n",
      "       sepal.length  sepal.width  petal.length  petal.width\n",
      "count    150.000000   150.000000    150.000000   150.000000\n",
      "mean       5.843333     3.057333      3.758000     1.199333\n",
      "std        0.828066     0.435866      1.765298     0.762238\n",
      "min        4.300000     2.000000      1.000000     0.100000\n",
      "25%        5.100000     2.800000      1.600000     0.300000\n",
      "50%        5.800000     3.000000      4.350000     1.300000\n",
      "75%        6.400000     3.300000      5.100000     1.800000\n",
      "max        7.900000     4.400000      6.900000     2.500000\n"
     ]
    }
   ],
   "source": [
    "print(df.head())        # first 5 lines\n",
    "print(df.tail())        # last 5 lines\n",
    "print(df.describe())    # some stats"
   ]
  },
  {
   "cell_type": "markdown",
   "metadata": {},
   "source": [
    "Some functions to inspect data values"
   ]
  },
  {
   "cell_type": "code",
   "execution_count": 3,
   "metadata": {},
   "outputs": [
    {
     "name": "stdout",
     "output_type": "stream",
     "text": [
      "sepal.length    float64\n",
      "sepal.width     float64\n",
      "petal.length    float64\n",
      "petal.width     float64\n",
      "variety          object\n",
      "dtype: object\n",
      "RangeIndex(start=0, stop=150, step=1)\n",
      "Index(['sepal.length', 'sepal.width', 'petal.length', 'petal.width',\n",
      "       'variety'],\n",
      "      dtype='object')\n",
      "[[5.1 3.5 1.4 0.2 'Setosa']\n",
      " [4.9 3.0 1.4 0.2 'Setosa']\n",
      " [4.7 3.2 1.3 0.2 'Setosa']\n",
      " [4.6 3.1 1.5 0.2 'Setosa']\n",
      " [5.0 3.6 1.4 0.2 'Setosa']\n",
      " [5.4 3.9 1.7 0.4 'Setosa']\n",
      " [4.6 3.4 1.4 0.3 'Setosa']\n",
      " [5.0 3.4 1.5 0.2 'Setosa']\n",
      " [4.4 2.9 1.4 0.2 'Setosa']\n",
      " [4.9 3.1 1.5 0.1 'Setosa']\n",
      " [5.4 3.7 1.5 0.2 'Setosa']\n",
      " [4.8 3.4 1.6 0.2 'Setosa']\n",
      " [4.8 3.0 1.4 0.1 'Setosa']\n",
      " [4.3 3.0 1.1 0.1 'Setosa']\n",
      " [5.8 4.0 1.2 0.2 'Setosa']\n",
      " [5.7 4.4 1.5 0.4 'Setosa']\n",
      " [5.4 3.9 1.3 0.4 'Setosa']\n",
      " [5.1 3.5 1.4 0.3 'Setosa']\n",
      " [5.7 3.8 1.7 0.3 'Setosa']\n",
      " [5.1 3.8 1.5 0.3 'Setosa']\n",
      " [5.4 3.4 1.7 0.2 'Setosa']\n",
      " [5.1 3.7 1.5 0.4 'Setosa']\n",
      " [4.6 3.6 1.0 0.2 'Setosa']\n",
      " [5.1 3.3 1.7 0.5 'Setosa']\n",
      " [4.8 3.4 1.9 0.2 'Setosa']\n",
      " [5.0 3.0 1.6 0.2 'Setosa']\n",
      " [5.0 3.4 1.6 0.4 'Setosa']\n",
      " [5.2 3.5 1.5 0.2 'Setosa']\n",
      " [5.2 3.4 1.4 0.2 'Setosa']\n",
      " [4.7 3.2 1.6 0.2 'Setosa']\n",
      " [4.8 3.1 1.6 0.2 'Setosa']\n",
      " [5.4 3.4 1.5 0.4 'Setosa']\n",
      " [5.2 4.1 1.5 0.1 'Setosa']\n",
      " [5.5 4.2 1.4 0.2 'Setosa']\n",
      " [4.9 3.1 1.5 0.2 'Setosa']\n",
      " [5.0 3.2 1.2 0.2 'Setosa']\n",
      " [5.5 3.5 1.3 0.2 'Setosa']\n",
      " [4.9 3.6 1.4 0.1 'Setosa']\n",
      " [4.4 3.0 1.3 0.2 'Setosa']\n",
      " [5.1 3.4 1.5 0.2 'Setosa']\n",
      " [5.0 3.5 1.3 0.3 'Setosa']\n",
      " [4.5 2.3 1.3 0.3 'Setosa']\n",
      " [4.4 3.2 1.3 0.2 'Setosa']\n",
      " [5.0 3.5 1.6 0.6 'Setosa']\n",
      " [5.1 3.8 1.9 0.4 'Setosa']\n",
      " [4.8 3.0 1.4 0.3 'Setosa']\n",
      " [5.1 3.8 1.6 0.2 'Setosa']\n",
      " [4.6 3.2 1.4 0.2 'Setosa']\n",
      " [5.3 3.7 1.5 0.2 'Setosa']\n",
      " [5.0 3.3 1.4 0.2 'Setosa']\n",
      " [7.0 3.2 4.7 1.4 'Versicolor']\n",
      " [6.4 3.2 4.5 1.5 'Versicolor']\n",
      " [6.9 3.1 4.9 1.5 'Versicolor']\n",
      " [5.5 2.3 4.0 1.3 'Versicolor']\n",
      " [6.5 2.8 4.6 1.5 'Versicolor']\n",
      " [5.7 2.8 4.5 1.3 'Versicolor']\n",
      " [6.3 3.3 4.7 1.6 'Versicolor']\n",
      " [4.9 2.4 3.3 1.0 'Versicolor']\n",
      " [6.6 2.9 4.6 1.3 'Versicolor']\n",
      " [5.2 2.7 3.9 1.4 'Versicolor']\n",
      " [5.0 2.0 3.5 1.0 'Versicolor']\n",
      " [5.9 3.0 4.2 1.5 'Versicolor']\n",
      " [6.0 2.2 4.0 1.0 'Versicolor']\n",
      " [6.1 2.9 4.7 1.4 'Versicolor']\n",
      " [5.6 2.9 3.6 1.3 'Versicolor']\n",
      " [6.7 3.1 4.4 1.4 'Versicolor']\n",
      " [5.6 3.0 4.5 1.5 'Versicolor']\n",
      " [5.8 2.7 4.1 1.0 'Versicolor']\n",
      " [6.2 2.2 4.5 1.5 'Versicolor']\n",
      " [5.6 2.5 3.9 1.1 'Versicolor']\n",
      " [5.9 3.2 4.8 1.8 'Versicolor']\n",
      " [6.1 2.8 4.0 1.3 'Versicolor']\n",
      " [6.3 2.5 4.9 1.5 'Versicolor']\n",
      " [6.1 2.8 4.7 1.2 'Versicolor']\n",
      " [6.4 2.9 4.3 1.3 'Versicolor']\n",
      " [6.6 3.0 4.4 1.4 'Versicolor']\n",
      " [6.8 2.8 4.8 1.4 'Versicolor']\n",
      " [6.7 3.0 5.0 1.7 'Versicolor']\n",
      " [6.0 2.9 4.5 1.5 'Versicolor']\n",
      " [5.7 2.6 3.5 1.0 'Versicolor']\n",
      " [5.5 2.4 3.8 1.1 'Versicolor']\n",
      " [5.5 2.4 3.7 1.0 'Versicolor']\n",
      " [5.8 2.7 3.9 1.2 'Versicolor']\n",
      " [6.0 2.7 5.1 1.6 'Versicolor']\n",
      " [5.4 3.0 4.5 1.5 'Versicolor']\n",
      " [6.0 3.4 4.5 1.6 'Versicolor']\n",
      " [6.7 3.1 4.7 1.5 'Versicolor']\n",
      " [6.3 2.3 4.4 1.3 'Versicolor']\n",
      " [5.6 3.0 4.1 1.3 'Versicolor']\n",
      " [5.5 2.5 4.0 1.3 'Versicolor']\n",
      " [5.5 2.6 4.4 1.2 'Versicolor']\n",
      " [6.1 3.0 4.6 1.4 'Versicolor']\n",
      " [5.8 2.6 4.0 1.2 'Versicolor']\n",
      " [5.0 2.3 3.3 1.0 'Versicolor']\n",
      " [5.6 2.7 4.2 1.3 'Versicolor']\n",
      " [5.7 3.0 4.2 1.2 'Versicolor']\n",
      " [5.7 2.9 4.2 1.3 'Versicolor']\n",
      " [6.2 2.9 4.3 1.3 'Versicolor']\n",
      " [5.1 2.5 3.0 1.1 'Versicolor']\n",
      " [5.7 2.8 4.1 1.3 'Versicolor']\n",
      " [6.3 3.3 6.0 2.5 'Virginica']\n",
      " [5.8 2.7 5.1 1.9 'Virginica']\n",
      " [7.1 3.0 5.9 2.1 'Virginica']\n",
      " [6.3 2.9 5.6 1.8 'Virginica']\n",
      " [6.5 3.0 5.8 2.2 'Virginica']\n",
      " [7.6 3.0 6.6 2.1 'Virginica']\n",
      " [4.9 2.5 4.5 1.7 'Virginica']\n",
      " [7.3 2.9 6.3 1.8 'Virginica']\n",
      " [6.7 2.5 5.8 1.8 'Virginica']\n",
      " [7.2 3.6 6.1 2.5 'Virginica']\n",
      " [6.5 3.2 5.1 2.0 'Virginica']\n",
      " [6.4 2.7 5.3 1.9 'Virginica']\n",
      " [6.8 3.0 5.5 2.1 'Virginica']\n",
      " [5.7 2.5 5.0 2.0 'Virginica']\n",
      " [5.8 2.8 5.1 2.4 'Virginica']\n",
      " [6.4 3.2 5.3 2.3 'Virginica']\n",
      " [6.5 3.0 5.5 1.8 'Virginica']\n",
      " [7.7 3.8 6.7 2.2 'Virginica']\n",
      " [7.7 2.6 6.9 2.3 'Virginica']\n",
      " [6.0 2.2 5.0 1.5 'Virginica']\n",
      " [6.9 3.2 5.7 2.3 'Virginica']\n",
      " [5.6 2.8 4.9 2.0 'Virginica']\n",
      " [7.7 2.8 6.7 2.0 'Virginica']\n",
      " [6.3 2.7 4.9 1.8 'Virginica']\n",
      " [6.7 3.3 5.7 2.1 'Virginica']\n",
      " [7.2 3.2 6.0 1.8 'Virginica']\n",
      " [6.2 2.8 4.8 1.8 'Virginica']\n",
      " [6.1 3.0 4.9 1.8 'Virginica']\n",
      " [6.4 2.8 5.6 2.1 'Virginica']\n",
      " [7.2 3.0 5.8 1.6 'Virginica']\n",
      " [7.4 2.8 6.1 1.9 'Virginica']\n",
      " [7.9 3.8 6.4 2.0 'Virginica']\n",
      " [6.4 2.8 5.6 2.2 'Virginica']\n",
      " [6.3 2.8 5.1 1.5 'Virginica']\n",
      " [6.1 2.6 5.6 1.4 'Virginica']\n",
      " [7.7 3.0 6.1 2.3 'Virginica']\n",
      " [6.3 3.4 5.6 2.4 'Virginica']\n",
      " [6.4 3.1 5.5 1.8 'Virginica']\n",
      " [6.0 3.0 4.8 1.8 'Virginica']\n",
      " [6.9 3.1 5.4 2.1 'Virginica']\n",
      " [6.7 3.1 5.6 2.4 'Virginica']\n",
      " [6.9 3.1 5.1 2.3 'Virginica']\n",
      " [5.8 2.7 5.1 1.9 'Virginica']\n",
      " [6.8 3.2 5.9 2.3 'Virginica']\n",
      " [6.7 3.3 5.7 2.5 'Virginica']\n",
      " [6.7 3.0 5.2 2.3 'Virginica']\n",
      " [6.3 2.5 5.0 1.9 'Virginica']\n",
      " [6.5 3.0 5.2 2.0 'Virginica']\n",
      " [6.2 3.4 5.4 2.3 'Virginica']\n",
      " [5.9 3.0 5.1 1.8 'Virginica']]\n"
     ]
    }
   ],
   "source": [
    "print(df.dtypes)\n",
    "print(df.index)\n",
    "print(df.columns)\n",
    "print(df.values)"
   ]
  },
  {
   "cell_type": "markdown",
   "metadata": {},
   "source": [
    "Data can also be sorted"
   ]
  },
  {
   "cell_type": "code",
   "execution_count": 4,
   "metadata": {},
   "outputs": [
    {
     "name": "stdout",
     "output_type": "stream",
     "text": [
      "     sepal.length  sepal.width  petal.length  petal.width     variety\n",
      "15            5.7          4.4           1.5          0.4      Setosa\n",
      "33            5.5          4.2           1.4          0.2      Setosa\n",
      "32            5.2          4.1           1.5          0.1      Setosa\n",
      "14            5.8          4.0           1.2          0.2      Setosa\n",
      "16            5.4          3.9           1.3          0.4      Setosa\n",
      "..            ...          ...           ...          ...         ...\n",
      "87            6.3          2.3           4.4          1.3  Versicolor\n",
      "62            6.0          2.2           4.0          1.0  Versicolor\n",
      "68            6.2          2.2           4.5          1.5  Versicolor\n",
      "119           6.0          2.2           5.0          1.5   Virginica\n",
      "60            5.0          2.0           3.5          1.0  Versicolor\n",
      "\n",
      "[150 rows x 5 columns]\n"
     ]
    }
   ],
   "source": [
    "df2 = df.sort_values('sepal.width',ascending=False) # does not sort in-place\n",
    "print(df2)"
   ]
  },
  {
   "cell_type": "markdown",
   "metadata": {},
   "source": [
    "Slicing data frames with variable names"
   ]
  },
  {
   "cell_type": "code",
   "execution_count": 5,
   "metadata": {},
   "outputs": [
    {
     "name": "stdout",
     "output_type": "stream",
     "text": [
      "     sepal.width\n",
      "0            3.5\n",
      "1            3.0\n",
      "2            3.2\n",
      "3            3.1\n",
      "4            3.6\n",
      "..           ...\n",
      "145          3.0\n",
      "146          2.5\n",
      "147          3.0\n",
      "148          3.4\n",
      "149          3.0\n",
      "\n",
      "[150 rows x 1 columns]\n",
      "     sepal.width  sepal.length\n",
      "0            3.5           5.1\n",
      "1            3.0           4.9\n",
      "2            3.2           4.7\n",
      "3            3.1           4.6\n",
      "4            3.6           5.0\n",
      "..           ...           ...\n",
      "145          3.0           6.7\n",
      "146          2.5           6.3\n",
      "147          3.0           6.5\n",
      "148          3.4           6.2\n",
      "149          3.0           5.9\n",
      "\n",
      "[150 rows x 2 columns]\n"
     ]
    }
   ],
   "source": [
    "print(df[['sepal.width']]) # slice one column by name\n",
    "print(df[['sepal.width','sepal.length']]) # slice two columns by name"
   ]
  },
  {
   "cell_type": "markdown",
   "metadata": {},
   "source": [
    "Slicing by rows using index"
   ]
  },
  {
   "cell_type": "code",
   "execution_count": 6,
   "metadata": {},
   "outputs": [
    {
     "name": "stdout",
     "output_type": "stream",
     "text": [
      "   sepal.length  sepal.width  petal.length  petal.width variety\n",
      "2           4.7          3.2           1.3          0.2  Setosa\n",
      "3           4.6          3.1           1.5          0.2  Setosa\n"
     ]
    }
   ],
   "source": [
    "print(df[2:4]) # slice rows by index, exclusive"
   ]
  },
  {
   "cell_type": "markdown",
   "metadata": {},
   "source": [
    "Slicing by rows and columns at the same time uses the functions `loc()` or `iloc()`"
   ]
  },
  {
   "cell_type": "code",
   "execution_count": 7,
   "metadata": {},
   "outputs": [
    {
     "name": "stdout",
     "output_type": "stream",
     "text": [
      "   petal.width  petal.length\n",
      "2          0.2           1.3\n",
      "3          0.2           1.5\n",
      "4          0.2           1.4\n",
      "   sepal.length  sepal.width\n",
      "2           4.7          3.2\n",
      "3           4.6          3.1\n"
     ]
    }
   ],
   "source": [
    "print(df.loc[2:4,['petal.width','petal.length']]) # slice rows by index and columns by name\n",
    "print(df.iloc[2:4,[0,1]]) # slice row and columns by index"
   ]
  },
  {
   "cell_type": "markdown",
   "metadata": {},
   "source": [
    "We can filter data using logical conditions or `isin()` function."
   ]
  },
  {
   "cell_type": "code",
   "execution_count": 8,
   "metadata": {},
   "outputs": [
    {
     "name": "stdout",
     "output_type": "stream",
     "text": [
      "     sepal.length  sepal.width  petal.length  petal.width    variety\n",
      "0             5.1          3.5           1.4          0.2     Setosa\n",
      "2             4.7          3.2           1.3          0.2     Setosa\n",
      "3             4.6          3.1           1.5          0.2     Setosa\n",
      "4             5.0          3.6           1.4          0.2     Setosa\n",
      "5             5.4          3.9           1.7          0.4     Setosa\n",
      "..            ...          ...           ...          ...        ...\n",
      "140           6.7          3.1           5.6          2.4  Virginica\n",
      "141           6.9          3.1           5.1          2.3  Virginica\n",
      "143           6.8          3.2           5.9          2.3  Virginica\n",
      "144           6.7          3.3           5.7          2.5  Virginica\n",
      "148           6.2          3.4           5.4          2.3  Virginica\n",
      "\n",
      "[67 rows x 5 columns]\n",
      "    sepal.length  sepal.width  petal.length  petal.width variety\n",
      "0            5.1          3.5           1.4          0.2  Setosa\n",
      "1            4.9          3.0           1.4          0.2  Setosa\n",
      "2            4.7          3.2           1.3          0.2  Setosa\n",
      "3            4.6          3.1           1.5          0.2  Setosa\n",
      "4            5.0          3.6           1.4          0.2  Setosa\n",
      "5            5.4          3.9           1.7          0.4  Setosa\n",
      "6            4.6          3.4           1.4          0.3  Setosa\n",
      "7            5.0          3.4           1.5          0.2  Setosa\n",
      "8            4.4          2.9           1.4          0.2  Setosa\n",
      "9            4.9          3.1           1.5          0.1  Setosa\n",
      "10           5.4          3.7           1.5          0.2  Setosa\n",
      "11           4.8          3.4           1.6          0.2  Setosa\n",
      "12           4.8          3.0           1.4          0.1  Setosa\n",
      "13           4.3          3.0           1.1          0.1  Setosa\n",
      "14           5.8          4.0           1.2          0.2  Setosa\n",
      "15           5.7          4.4           1.5          0.4  Setosa\n",
      "16           5.4          3.9           1.3          0.4  Setosa\n",
      "17           5.1          3.5           1.4          0.3  Setosa\n",
      "18           5.7          3.8           1.7          0.3  Setosa\n",
      "19           5.1          3.8           1.5          0.3  Setosa\n",
      "20           5.4          3.4           1.7          0.2  Setosa\n",
      "21           5.1          3.7           1.5          0.4  Setosa\n",
      "22           4.6          3.6           1.0          0.2  Setosa\n",
      "23           5.1          3.3           1.7          0.5  Setosa\n",
      "24           4.8          3.4           1.9          0.2  Setosa\n",
      "25           5.0          3.0           1.6          0.2  Setosa\n",
      "26           5.0          3.4           1.6          0.4  Setosa\n",
      "27           5.2          3.5           1.5          0.2  Setosa\n",
      "28           5.2          3.4           1.4          0.2  Setosa\n",
      "29           4.7          3.2           1.6          0.2  Setosa\n",
      "30           4.8          3.1           1.6          0.2  Setosa\n",
      "31           5.4          3.4           1.5          0.4  Setosa\n",
      "32           5.2          4.1           1.5          0.1  Setosa\n",
      "33           5.5          4.2           1.4          0.2  Setosa\n",
      "34           4.9          3.1           1.5          0.2  Setosa\n",
      "35           5.0          3.2           1.2          0.2  Setosa\n",
      "36           5.5          3.5           1.3          0.2  Setosa\n",
      "37           4.9          3.6           1.4          0.1  Setosa\n",
      "38           4.4          3.0           1.3          0.2  Setosa\n",
      "39           5.1          3.4           1.5          0.2  Setosa\n",
      "40           5.0          3.5           1.3          0.3  Setosa\n",
      "41           4.5          2.3           1.3          0.3  Setosa\n",
      "42           4.4          3.2           1.3          0.2  Setosa\n",
      "43           5.0          3.5           1.6          0.6  Setosa\n",
      "44           5.1          3.8           1.9          0.4  Setosa\n",
      "45           4.8          3.0           1.4          0.3  Setosa\n",
      "46           5.1          3.8           1.6          0.2  Setosa\n",
      "47           4.6          3.2           1.4          0.2  Setosa\n",
      "48           5.3          3.7           1.5          0.2  Setosa\n",
      "49           5.0          3.3           1.4          0.2  Setosa\n"
     ]
    }
   ],
   "source": [
    "print(df[df['sepal.width']>3]) # slicing with logical condition\n",
    "print(df[df['variety'].isin([\"Setosa\"])])"
   ]
  },
  {
   "cell_type": "markdown",
   "metadata": {},
   "source": [
    "We can create new column of data"
   ]
  },
  {
   "cell_type": "code",
   "execution_count": 9,
   "metadata": {},
   "outputs": [
    {
     "name": "stdout",
     "output_type": "stream",
     "text": [
      "     sepal.length  sepal.width  petal.length  petal.width    variety  \\\n",
      "0             5.1          3.5           1.4          0.2     Setosa   \n",
      "1             4.9          3.0           1.4          0.2     Setosa   \n",
      "2             4.7          3.2           1.3          0.2     Setosa   \n",
      "3             4.6          3.1           1.5          0.2     Setosa   \n",
      "4             5.0          3.6           1.4          0.2     Setosa   \n",
      "..            ...          ...           ...          ...        ...   \n",
      "145           6.7          3.0           5.2          2.3  Virginica   \n",
      "146           6.3          2.5           5.0          1.9  Virginica   \n",
      "147           6.5          3.0           5.2          2.0  Virginica   \n",
      "148           6.2          3.4           5.4          2.3  Virginica   \n",
      "149           5.9          3.0           5.1          1.8  Virginica   \n",
      "\n",
      "     sepal.area  zeros  \n",
      "0         17.85    0.0  \n",
      "1         14.70    0.0  \n",
      "2         15.04    0.0  \n",
      "3         14.26    0.0  \n",
      "4         18.00    0.0  \n",
      "..          ...    ...  \n",
      "145       20.10    0.0  \n",
      "146       15.75    0.0  \n",
      "147       19.50    0.0  \n",
      "148       21.08    0.0  \n",
      "149       17.70    0.0  \n",
      "\n",
      "[150 rows x 7 columns]\n"
     ]
    }
   ],
   "source": [
    "df[\"sepal.area\"] = df['sepal.length'] * df['sepal.width']\n",
    "df['zeros'] = 0.0\n",
    "print(df)"
   ]
  },
  {
   "cell_type": "markdown",
   "metadata": {},
   "source": [
    "We can also remove column with `drop()`"
   ]
  },
  {
   "cell_type": "code",
   "execution_count": 10,
   "metadata": {},
   "outputs": [
    {
     "name": "stdout",
     "output_type": "stream",
     "text": [
      "df after drop      sepal.length  sepal.width  petal.length  petal.width    variety  \\\n",
      "0             5.1          3.5           1.4          0.2     Setosa   \n",
      "1             4.9          3.0           1.4          0.2     Setosa   \n",
      "2             4.7          3.2           1.3          0.2     Setosa   \n",
      "3             4.6          3.1           1.5          0.2     Setosa   \n",
      "4             5.0          3.6           1.4          0.2     Setosa   \n",
      "..            ...          ...           ...          ...        ...   \n",
      "145           6.7          3.0           5.2          2.3  Virginica   \n",
      "146           6.3          2.5           5.0          1.9  Virginica   \n",
      "147           6.5          3.0           5.2          2.0  Virginica   \n",
      "148           6.2          3.4           5.4          2.3  Virginica   \n",
      "149           5.9          3.0           5.1          1.8  Virginica   \n",
      "\n",
      "     sepal.area  \n",
      "0         17.85  \n",
      "1         14.70  \n",
      "2         15.04  \n",
      "3         14.26  \n",
      "4         18.00  \n",
      "..          ...  \n",
      "145       20.10  \n",
      "146       15.75  \n",
      "147       19.50  \n",
      "148       21.08  \n",
      "149       17.70  \n",
      "\n",
      "[150 rows x 6 columns]\n"
     ]
    }
   ],
   "source": [
    "df = df.drop(['zeros'],axis=1)\n",
    "print(\"df after drop\",df)"
   ]
  },
  {
   "cell_type": "markdown",
   "metadata": {},
   "source": [
    "We can rename columns"
   ]
  },
  {
   "cell_type": "code",
   "execution_count": 11,
   "metadata": {},
   "outputs": [
    {
     "name": "stdout",
     "output_type": "stream",
     "text": [
      "   sepal.length  sepal.width  petal.length  petal.width variety  sep.ar\n",
      "0           5.1          3.5           1.4          0.2  Setosa   17.85\n",
      "1           4.9          3.0           1.4          0.2  Setosa   14.70\n",
      "2           4.7          3.2           1.3          0.2  Setosa   15.04\n",
      "3           4.6          3.1           1.5          0.2  Setosa   14.26\n",
      "4           5.0          3.6           1.4          0.2  Setosa   18.00\n",
      "   col1  col2  col3  col4    col5   col6\n",
      "0   5.1   3.5   1.4   0.2  Setosa  17.85\n",
      "1   4.9   3.0   1.4   0.2  Setosa  14.70\n",
      "2   4.7   3.2   1.3   0.2  Setosa  15.04\n",
      "3   4.6   3.1   1.5   0.2  Setosa  14.26\n",
      "4   5.0   3.6   1.4   0.2  Setosa  18.00\n"
     ]
    }
   ],
   "source": [
    "df.rename(columns = {'sepal.area':'sep.ar'},inplace=True)\n",
    "print(df.head())\n",
    "df.columns = ['col1','col2','col3','col4','col5','col6']\n",
    "print(df.head())"
   ]
  },
  {
   "cell_type": "markdown",
   "metadata": {},
   "source": [
    "To add a new row, we have to create a serie first with `Series()` before appending to the DataFrame with the last position of `loc[]`. (Note that `append()` has been deprecated in recent version of pandas)"
   ]
  },
  {
   "cell_type": "code",
   "execution_count": 12,
   "metadata": {},
   "outputs": [
    {
     "name": "stdout",
     "output_type": "stream",
     "text": [
      "     col1  col2  col3  col4       col5   col6\n",
      "0     5.1   3.5   1.4   0.2     Setosa  17.85\n",
      "1     4.9   3.0   1.4   0.2     Setosa  14.70\n",
      "2     4.7   3.2   1.3   0.2     Setosa  15.04\n",
      "3     4.6   3.1   1.5   0.2     Setosa  14.26\n",
      "4     5.0   3.6   1.4   0.2     Setosa  18.00\n",
      "..    ...   ...   ...   ...        ...    ...\n",
      "146   6.3   2.5   5.0   1.9  Virginica  15.75\n",
      "147   6.5   3.0   5.2   2.0  Virginica  19.50\n",
      "148   6.2   3.4   5.4   2.3  Virginica  21.08\n",
      "149   5.9   3.0   5.1   1.8  Virginica  17.70\n",
      "150   7.0   4.0   5.5   6.6     Setosa  28.00\n",
      "\n",
      "[151 rows x 6 columns]\n"
     ]
    }
   ],
   "source": [
    "to_append = [7.0,4.0,5.5,6.6,\"Setosa\",28.0]\n",
    "a_series = pd.Series(to_append, index = df.columns)\n",
    "\n",
    "df.loc[len(df)] = a_series\n",
    "print(df)"
   ]
  },
  {
   "cell_type": "markdown",
   "metadata": {},
   "source": [
    "We can loop over the data frame with `iterrows()`"
   ]
  },
  {
   "cell_type": "code",
   "execution_count": 13,
   "metadata": {},
   "outputs": [
    {
     "name": "stdout",
     "output_type": "stream",
     "text": [
      "Line 0 : 3.5\n",
      "Line 1 : 3.0\n",
      "Line 2 : 3.2\n",
      "Line 3 : 3.1\n",
      "Line 4 : 3.6\n",
      "Line 5 : 3.9\n"
     ]
    }
   ],
   "source": [
    "for ind, row in df.iterrows():\n",
    "    print(\"Line {} : {}\".format(ind, row['col2']))\n",
    "    if ind==5 : break # display only first 5"
   ]
  },
  {
   "cell_type": "markdown",
   "metadata": {},
   "source": [
    "And finally save data frame back to CSV using `to_csv()`"
   ]
  },
  {
   "cell_type": "code",
   "execution_count": 14,
   "metadata": {},
   "outputs": [],
   "source": [
    "df.to_csv(\"iris_new.csv\")"
   ]
  }
 ],
 "metadata": {
  "kernelspec": {
   "display_name": "base",
   "language": "python",
   "name": "python3"
  },
  "language_info": {
   "codemirror_mode": {
    "name": "ipython",
    "version": 3
   },
   "file_extension": ".py",
   "mimetype": "text/x-python",
   "name": "python",
   "nbconvert_exporter": "python",
   "pygments_lexer": "ipython3",
   "version": "3.11.9"
  }
 },
 "nbformat": 4,
 "nbformat_minor": 2
}

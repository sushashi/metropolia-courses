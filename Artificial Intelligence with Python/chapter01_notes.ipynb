{
 "cells": [
  {
   "cell_type": "markdown",
   "metadata": {},
   "source": [
    "# Chapter 1: Python Quick Recap\n",
    "## Common operations"
   ]
  },
  {
   "cell_type": "code",
   "execution_count": 1,
   "metadata": {},
   "outputs": [
    {
     "name": "stdout",
     "output_type": "stream",
     "text": [
      "2\n",
      "Hello world\n",
      "3\n",
      "9\n",
      "Hello Hello Hello Hello Hello \n",
      "3.0\n",
      "2\n",
      "0\n",
      "True\n",
      "True\n",
      "True\n",
      "False\n"
     ]
    }
   ],
   "source": [
    "print(1 + 1)                # Addition\n",
    "print(\"Hello\" + \" world\")   \n",
    "\n",
    "print(4-1)                  # Subtraction\n",
    "\n",
    "print(3*3)                  # Multiplication\n",
    "print(\"Hello \" * 5)\n",
    "\n",
    "print(12/4)                 # Division\n",
    "\n",
    "print(12%5)                 # Modulo\n",
    "print(100%10)\n",
    "\n",
    "print(10 == 10)             # Equal\n",
    "print(\"banana\" != \"apple\")  # Not Equal\n",
    "\n",
    "print('z' > 'a')            # Greater than\n",
    "print(11 < 10)              # Less than"
   ]
  },
  {
   "cell_type": "markdown",
   "metadata": {},
   "source": [
    "## Common Data Types"
   ]
  },
  {
   "cell_type": "code",
   "execution_count": 2,
   "metadata": {},
   "outputs": [
    {
     "name": "stdout",
     "output_type": "stream",
     "text": [
      "Y hello world E hello world S\n"
     ]
    },
    {
     "data": {
      "text/plain": [
       "13"
      ]
     },
     "execution_count": 2,
     "metadata": {},
     "output_type": "execute_result"
    }
   ],
   "source": [
    "# Strings\n",
    "s = \"this is a string\"\n",
    "t = 'this is a string'\n",
    "u = \"\"\" hello world \"\"\"\n",
    "print(u.join(\"YES\"))\n",
    "len(u)"
   ]
  },
  {
   "cell_type": "code",
   "execution_count": 3,
   "metadata": {},
   "outputs": [
    {
     "name": "stdout",
     "output_type": "stream",
     "text": [
      "23\n",
      "[1, 2, 4, 5, 25, 21, 22]\n",
      "5\n",
      "[1, 2, 4, 25, 21, 22]\n",
      "[1, 2, 4, 21, 22, 25]\n",
      "False\n",
      "True\n"
     ]
    }
   ],
   "source": [
    "# Lists\n",
    "L = [1, 2, 3, 4, 5]\n",
    "L[0]            # first element\n",
    "L[0:3]          # first three elements\n",
    "L[-2:]          # last two elements\n",
    "del L[2]        # remove element in index 2\n",
    "L.append(10)    # insert value 10 at the end of the list\n",
    "L.remove(10)    # remove value 10 from the list\n",
    "\n",
    "L2 = [25, 21, 22, 23]\n",
    "L.extend(L2)    # extend the list L with the list L2\n",
    "print(L.pop())  # remove the last element of the list\n",
    "print(L)\n",
    "print(L.pop(3)) # remove the 3rd element of the list\n",
    "print(L)\n",
    "\n",
    "L.sort()        # sort the list in place\n",
    "print(L)\n",
    "\n",
    "print(3 in L)   # does L contain 3\n",
    "print(21 in L)  # does L contain 21"
   ]
  },
  {
   "cell_type": "code",
   "execution_count": 4,
   "metadata": {},
   "outputs": [
    {
     "name": "stdout",
     "output_type": "stream",
     "text": [
      "(25, 'June', 'Smith')\n",
      "Smith\n"
     ]
    }
   ],
   "source": [
    "# Tuples\n",
    "person = (25, \"June\", \"Smith\") # Tuple can have heterogeneous data items\n",
    "print(person)\n",
    "print(person[2])"
   ]
  },
  {
   "cell_type": "code",
   "execution_count": 5,
   "metadata": {},
   "outputs": [
    {
     "name": "stdout",
     "output_type": "stream",
     "text": [
      "{1, 2, 3, 5}\n"
     ]
    }
   ],
   "source": [
    "# Sets\n",
    "S1 = {1, 3, 5} # unordered, unchangeable, no duplicate values\n",
    "L = [1, 3, 1, 5, 3, 2, 2]\n",
    "S2 = set(L) # create a set from the list L\n",
    "print(S2)"
   ]
  },
  {
   "cell_type": "markdown",
   "metadata": {},
   "source": [
    "## Control Flows"
   ]
  },
  {
   "cell_type": "code",
   "execution_count": 6,
   "metadata": {},
   "outputs": [
    {
     "name": "stdout",
     "output_type": "stream",
     "text": [
      "0 1 2 3 4 5 6 7 8 9 "
     ]
    }
   ],
   "source": [
    "# While loop\n",
    "x = 0\n",
    "while (x < 10):\n",
    "    print(x, end = \" \")\n",
    "    x += 1"
   ]
  },
  {
   "cell_type": "code",
   "execution_count": 7,
   "metadata": {},
   "outputs": [
    {
     "name": "stdout",
     "output_type": "stream",
     "text": [
      "0 -1 2 -3 4 -5 6 -7 8 -9 "
     ]
    }
   ],
   "source": [
    "# For loop, If/Else\n",
    "for x in range(10):\n",
    "    if x % 2 == 0:\n",
    "        print(x, end= \" \")\n",
    "    else:\n",
    "        print(-x, end = \" \")"
   ]
  },
  {
   "cell_type": "markdown",
   "metadata": {},
   "source": [
    "## Function, input and formatting"
   ]
  },
  {
   "cell_type": "code",
   "execution_count": 8,
   "metadata": {},
   "outputs": [
    {
     "data": {
      "text/plain": [
       "30"
      ]
     },
     "execution_count": 8,
     "metadata": {},
     "output_type": "execute_result"
    }
   ],
   "source": [
    "# Function that multiply its argument by 3\n",
    "def function_name(input_var):\n",
    "    return 3 * input_var\n",
    "\n",
    "function_name(10)"
   ]
  },
  {
   "cell_type": "code",
   "execution_count": 9,
   "metadata": {},
   "outputs": [
    {
     "name": "stdout",
     "output_type": "stream",
     "text": [
      "30\n",
      "I am 15 years old\n"
     ]
    }
   ],
   "source": [
    "# Input is always a string\n",
    "age = int(input(\"How old are you ?\"))\n",
    "print(age*2)\n",
    "\n",
    "s = \"I am \" + str(age) + \" years old\"\n",
    "print(s)"
   ]
  },
  {
   "cell_type": "code",
   "execution_count": 10,
   "metadata": {},
   "outputs": [
    {
     "name": "stdout",
     "output_type": "stream",
     "text": [
      "Number 0:     1.23\n",
      "Number 1:  1332.30\n",
      "Number 2:   534.55\n",
      "Number 3:     0.31\n"
     ]
    }
   ],
   "source": [
    "# Formatting and alignment\n",
    "L1 = [1.23123, 1332.3, 534.55, 0.312312312]\n",
    "for i, j in enumerate(L1):\n",
    "    \n",
    "    print(\"Number {}: {:8.2f}\".format(i, j))"
   ]
  },
  {
   "cell_type": "markdown",
   "metadata": {},
   "source": [
    "## Exceptions"
   ]
  },
  {
   "cell_type": "code",
   "execution_count": 11,
   "metadata": {},
   "outputs": [
    {
     "name": "stdout",
     "output_type": "stream",
     "text": [
      "Execute something ...\n",
      "<class 'TypeError'>\n",
      "argument\n",
      "...\n"
     ]
    },
    {
     "name": "stderr",
     "output_type": "stream",
     "text": [
      "  File \"C:\\Users\\Sushi\\AppData\\Local\\Temp\\ipykernel_18936\\3657614167.py\", line 7, in <module>\n",
      "    raise TypeError(\"argument\")\n"
     ]
    },
    {
     "ename": "TypeError",
     "evalue": "argument",
     "output_type": "error",
     "traceback": [
      "\u001b[1;31m---------------------------------------------------------------------------\u001b[0m",
      "\u001b[1;31mTypeError\u001b[0m                                 Traceback (most recent call last)",
      "Cell \u001b[1;32mIn[11], line 7\u001b[0m\n\u001b[0;32m      5\u001b[0m     \u001b[38;5;28mprint\u001b[39m(\u001b[38;5;124m\"\u001b[39m\u001b[38;5;124mExecute something ...\u001b[39m\u001b[38;5;124m\"\u001b[39m)\n\u001b[0;32m      6\u001b[0m     \u001b[38;5;66;03m# Raise an error\u001b[39;00m\n\u001b[1;32m----> 7\u001b[0m     \u001b[38;5;28;01mraise\u001b[39;00m \u001b[38;5;167;01mTypeError\u001b[39;00m(\u001b[38;5;124m\"\u001b[39m\u001b[38;5;124margument\u001b[39m\u001b[38;5;124m\"\u001b[39m)\n\u001b[0;32m      8\u001b[0m \u001b[38;5;28;01mexcept\u001b[39;00m(\u001b[38;5;167;01mRuntimeError\u001b[39;00m, \u001b[38;5;167;01mNameError\u001b[39;00m):\n\u001b[0;32m      9\u001b[0m     \u001b[38;5;66;03m# Handle error\u001b[39;00m\n\u001b[0;32m     10\u001b[0m     \u001b[38;5;28;01mpass\u001b[39;00m \u001b[38;5;66;03m# Empty instruction\u001b[39;00m\n",
      "\u001b[1;31mTypeError\u001b[0m: argument"
     ]
    }
   ],
   "source": [
    "import sys\n",
    "import traceback\n",
    "\n",
    "try:\n",
    "    print(\"Execute something ...\")\n",
    "    # Raise an error\n",
    "    raise TypeError(\"argument\")\n",
    "except(RuntimeError, NameError):\n",
    "    # Handle error\n",
    "    pass # Empty instruction\n",
    "except:\n",
    "    # Handle error\n",
    "    info = sys.exc_info()\n",
    "    print(info[0]) # <class 'TypeError'>\n",
    "    print(info[1]) # argument\n",
    "    traceback.print_tb(info[2]) # what file, where, what\n",
    "    raise\n",
    "else:\n",
    "    print(\"...\")     # No exception but before finally\n",
    "finally:\n",
    "    print(\"...\")     # On the way out.."
   ]
  },
  {
   "cell_type": "code",
   "execution_count": 12,
   "metadata": {},
   "outputs": [
    {
     "name": "stdout",
     "output_type": "stream",
     "text": [
      "Cannot divide by zero\n"
     ]
    }
   ],
   "source": [
    "try:\n",
    "    a = 12\n",
    "    b = 0\n",
    "    print(a/b)\n",
    "except(RuntimeError):\n",
    "    print(\"runtime error\")\n",
    "except(ZeroDivisionError):\n",
    "    # Handle the error: print a message\n",
    "    print(\"Cannot divide by zero\")"
   ]
  },
  {
   "cell_type": "markdown",
   "metadata": {},
   "source": [
    "## Object oriented"
   ]
  },
  {
   "cell_type": "code",
   "execution_count": 13,
   "metadata": {},
   "outputs": [
    {
     "name": "stdout",
     "output_type": "stream",
     "text": [
      "Person (Bob Smith, 25)\n",
      "Smith\n"
     ]
    }
   ],
   "source": [
    "class Person:\n",
    "    # class attribute ID\n",
    "    ID = 0\n",
    "\n",
    "    # instance attribute initialization (like a constructor)\n",
    "    def __init__(self, name, age=0):\n",
    "        self.name = name\n",
    "        self.age = age\n",
    "        Person.ID += 1\n",
    "\n",
    "    # some method\n",
    "    def lastName(self):\n",
    "        return self.name.split()[-1]\n",
    "    \n",
    "    # special method to define a string representation of the object\n",
    "    def __str__(self):\n",
    "        return \"{} ({}, {})\".format(self.__class__.__name__, self.name, self.age)\n",
    "\n",
    "\n",
    "bob = Person(\"Bob Smith\", 25)\n",
    "print(bob)\n",
    "print(bob.lastName())"
   ]
  },
  {
   "cell_type": "code",
   "execution_count": 14,
   "metadata": {},
   "outputs": [
    {
     "name": "stdout",
     "output_type": "stream",
     "text": [
      "Worker (Alicia Blithe, developer, 30)\n",
      "Blithe\n"
     ]
    }
   ],
   "source": [
    "# Inheritance\n",
    "class Worker(Person):\n",
    "    def __init__(self, name, position, age=0):\n",
    "        # function that initiate and makes the child class inherit all the properties from its parents\n",
    "        super().__init__(name, age)\n",
    "        self.position = position\n",
    "\n",
    "    def __str__(self):\n",
    "        return \"{} ({}, {}, {})\".format(self.__class__.__name__, self.name, self.position, self.age)\n",
    "\n",
    "alicia = Worker(\"Alicia Blithe\", \"developer\", 30)\n",
    "print(alicia)\n",
    "print(alicia.lastName())"
   ]
  }
 ],
 "metadata": {
  "kernelspec": {
   "display_name": "base",
   "language": "python",
   "name": "python3"
  },
  "language_info": {
   "codemirror_mode": {
    "name": "ipython",
    "version": 3
   },
   "file_extension": ".py",
   "mimetype": "text/x-python",
   "name": "python",
   "nbconvert_exporter": "python",
   "pygments_lexer": "ipython3",
   "version": "3.11.9"
  }
 },
 "nbformat": 4,
 "nbformat_minor": 2
}

{
 "cells": [
  {
   "cell_type": "markdown",
   "metadata": {},
   "source": [
    "# Chapter 2: Python arrays, tables, vectors, matrices\n",
    "\n",
    "## Introduction\n",
    "\n",
    "In data analysis, AI and numerical computation, it is common to gather numerical information into vectors and matrices.\n",
    "\n",
    "Vectors and matrices are actually mathematical terms related to linear algebra.\n",
    "\n",
    "$$ \\vec{v} = \\begin{pmatrix} x_1\\\\ x_2\\\\ \\vdots \\\\ x_n \\end{pmatrix} = (x_1, x_2, \\ldots, x_n)^T $$\n",
    "\n",
    "\n",
    "$$ A = \\begin{pmatrix}\n",
    "a_{11} & a_{12} & \\cdots & a_{1j} & \\cdots & a_{1n} \\\\\n",
    "a_{21} & a_{22} & \\cdots & a_{2j} & \\cdots & a_{2n} \\\\\n",
    "\\vdots & \\vdots & \\ddots & \\vdots & \\ddots & \\vdots \\\\\n",
    "a_{i1} & a_{i2} & \\cdots & a_{ij} & \\cdots & a_{in} \\\\\n",
    "\\vdots & \\vdots & \\ddots & \\vdots & \\ddots & \\vdots \\\\\n",
    "a_{m1} & a_{m2} & \\cdots & a_{mj} & \\cdots & a_{mn}\n",
    "\\end{pmatrix}\n",
    "$$ \n",
    "\n",
    "with $ a_{ij} $ the $i^{th}$ row and $j^{th}$ column of the matrix $A$.\n",
    "\n",
    "In this course, we consider a vector as a one-dimensional collection of numbers like a list. Arrays and matrices are usually two-dimensional containing information in rows and columns. Tables can also be multi-dimensional, making their visual presentation more difficult.\n",
    "\n",
    "## Numpy and Arrays\n",
    "\n",
    "Numpy is a python library that provides a lot of functionalities for numerical computing. It handles large and multi-dimensional arrays and matrices and provides functions to operate on them.\n",
    "\n",
    "Here are the most common functions:\n",
    "\n",
    "We first import the numpy library (assuming it is installed)"
   ]
  },
  {
   "cell_type": "code",
   "execution_count": 1,
   "metadata": {},
   "outputs": [],
   "source": [
    "import numpy as np"
   ]
  },
  {
   "cell_type": "markdown",
   "metadata": {},
   "source": [
    "An array is created with the array() command taking a list or a list of list as argument."
   ]
  },
  {
   "cell_type": "code",
   "execution_count": 2,
   "metadata": {},
   "outputs": [
    {
     "name": "stdout",
     "output_type": "stream",
     "text": [
      "[1 3 4 5]\n",
      "[[1 3]\n",
      " [4 5]]\n"
     ]
    }
   ],
   "source": [
    "x = np.array([1, 3, 4, 5])\n",
    "A = np.array([[1,3],[4,5]])\n",
    "print(x)\n",
    "print(A)"
   ]
  },
  {
   "cell_type": "markdown",
   "metadata": {},
   "source": [
    "It has a shape"
   ]
  },
  {
   "cell_type": "code",
   "execution_count": 3,
   "metadata": {},
   "outputs": [
    {
     "name": "stdout",
     "output_type": "stream",
     "text": [
      "(4,)\n",
      "(2, 2)\n"
     ]
    }
   ],
   "source": [
    "print(np.shape(x))\n",
    "print(np.shape(A))"
   ]
  },
  {
   "cell_type": "markdown",
   "metadata": {},
   "source": [
    "It is more convenient to create arrays from zeros(), ones() and full()"
   ]
  },
  {
   "cell_type": "code",
   "execution_count": 4,
   "metadata": {},
   "outputs": [
    {
     "name": "stdout",
     "output_type": "stream",
     "text": [
      "[0. 0. 0. 0. 0.]\n",
      "(5,)\n",
      "[[0. 0. 0. 0. 0.]\n",
      " [0. 0. 0. 0. 0.]\n",
      " [0. 0. 0. 0. 0.]\n",
      " [0. 0. 0. 0. 0.]]\n",
      "(4, 5)\n",
      "[[1. 1. 1.]\n",
      " [1. 1. 1.]]\n",
      "[[11 11 11 11 11 11 11 11]\n",
      " [11 11 11 11 11 11 11 11]\n",
      " [11 11 11 11 11 11 11 11]\n",
      " [11 11 11 11 11 11 11 11]\n",
      " [11 11 11 11 11 11 11 11]\n",
      " [11 11 11 11 11 11 11 11]\n",
      " [11 11 11 11 11 11 11 11]]\n"
     ]
    }
   ],
   "source": [
    "Z = np.zeros(5)\n",
    "print(Z)\n",
    "print(np.shape(Z))\n",
    "\n",
    "Z2 = np.zeros( (4,5) )\n",
    "print(Z2)\n",
    "print(Z2.shape)\n",
    "\n",
    "Y = np.ones( (2,3) )\n",
    "print(Y)\n",
    "\n",
    "F = np.full( (7,8), 11)\n",
    "print(F)"
   ]
  },
  {
   "cell_type": "markdown",
   "metadata": {},
   "source": [
    "We use linspace() to create an evenly spaced array of numbers with an initial, an end value and number of elements."
   ]
  },
  {
   "cell_type": "code",
   "execution_count": 5,
   "metadata": {},
   "outputs": [
    {
     "name": "stdout",
     "output_type": "stream",
     "text": [
      "[0.         0.55555556 1.11111111 1.66666667 2.22222222 2.77777778\n",
      " 3.33333333 3.88888889 4.44444444 5.        ]\n"
     ]
    }
   ],
   "source": [
    "x = np.linspace(0, 5, 10)\n",
    "print(x)"
   ]
  },
  {
   "cell_type": "markdown",
   "metadata": {},
   "source": [
    "Whereas arange() is used to create a evenly spaced arrays with a defined step length as third parameter."
   ]
  },
  {
   "cell_type": "code",
   "execution_count": 6,
   "metadata": {},
   "outputs": [
    {
     "name": "stdout",
     "output_type": "stream",
     "text": [
      "[0.  0.2 0.4 0.6 0.8 1.  1.2 1.4 1.6 1.8 2.  2.2 2.4 2.6 2.8 3.  3.2 3.4\n",
      " 3.6 3.8 4.  4.2 4.4 4.6 4.8]\n"
     ]
    }
   ],
   "source": [
    "x2 = np.arange(0, 5, 0.2)\n",
    "print(x2)"
   ]
  },
  {
   "cell_type": "markdown",
   "metadata": {},
   "source": [
    "Random numbers generation between [a, b]. (Endpoint is not included)"
   ]
  },
  {
   "cell_type": "code",
   "execution_count": 7,
   "metadata": {},
   "outputs": [
    {
     "name": "stdout",
     "output_type": "stream",
     "text": [
      "[6 2 3 6 4 1 2 1 3 1 1 5 2 1 3 4 4 6 5 2 4 4 4 4 4 4 4 1 6 3 4 1 6 5 5 3 6\n",
      " 4 1 3 1 4 1 1 2 4 5 1 2 1]\n"
     ]
    }
   ],
   "source": [
    "a = 1\n",
    "b = 6\n",
    "amount = 50\n",
    "nopat = np.random.randint(a, b+1, amount)\n",
    "print(nopat)"
   ]
  },
  {
   "cell_type": "markdown",
   "metadata": {},
   "source": [
    "Normally distributed random numbers randn()  $ X \\sim \\mathcal{N}(0,1)$"
   ]
  },
  {
   "cell_type": "code",
   "execution_count": 8,
   "metadata": {},
   "outputs": [
    {
     "name": "stdout",
     "output_type": "stream",
     "text": [
      "[ 1.89203241e-05 -5.88640091e-01  1.43720596e+00 -4.88303153e-01\n",
      " -6.17491712e-01 -5.82361121e-01  2.28874726e+00  5.18434445e-01\n",
      "  7.17206200e-01  1.64126360e+00  1.75208968e+00  1.14616926e+00\n",
      "  1.80105865e-01 -5.67474559e-01  2.14541185e-01  5.02311210e-01\n",
      " -2.31797873e-01  1.41356728e+00 -2.32483903e-02  1.49524035e+00\n",
      "  4.85650042e-01 -1.78396413e-01  4.71016018e-01 -2.31896207e+00\n",
      " -1.86362226e+00  1.44041284e+00 -1.43327336e+00 -1.24501248e-01\n",
      " -1.11933669e+00 -1.79901484e+00  7.38060687e-01 -7.66147382e-02\n",
      " -4.23839630e-01  1.51404933e-01 -5.81939010e-01  2.86823859e+00\n",
      " -8.39989673e-01 -5.91252609e-01 -1.44304145e+00 -1.90958908e-03\n",
      " -9.55204271e-01 -1.86995939e+00  3.83355337e-01  3.45175472e-01\n",
      " -1.40525464e+00  6.91806952e-01 -5.31808115e-02 -1.10618465e+00\n",
      " -7.32966033e-01 -1.39558164e-04 -1.76294282e+00 -4.04396675e-01\n",
      "  5.78262198e-01 -1.10392613e+00  4.30827241e-02  9.68374207e-01\n",
      "  2.42217308e-01  3.24629992e-01 -3.45966557e-01  1.49351302e+00\n",
      "  1.31132320e+00  1.63709622e+00  1.51340929e+00 -4.37676202e-02\n",
      "  5.34872842e-01  1.16721190e+00  8.76716762e-01 -9.92388581e-02\n",
      "  1.82813582e-02 -7.70247416e-01  2.70429160e-01  1.10267392e-01\n",
      "  2.66049390e-01  1.70790075e-02 -2.29764423e+00  1.68376663e-02\n",
      " -5.80749934e-01  5.86383913e-01 -8.06172497e-01 -2.60316492e-01\n",
      " -1.04553088e+00 -1.71583207e-01 -8.61457523e-01  4.19149639e-01\n",
      "  8.50157804e-01  3.69055766e-01 -1.08812385e+00  1.53209996e+00\n",
      "  4.45787382e-01 -1.25086282e+00 -3.18528748e-01 -1.63810224e+00\n",
      " -3.87699807e-02  1.94213784e+00 -4.11557777e-01  2.74055778e-01\n",
      " -5.41310942e-01 -1.04513426e+00  2.30055865e-01 -3.03823663e-02]\n"
     ]
    }
   ],
   "source": [
    "x = np.random.randn(100)\n",
    "print(x)"
   ]
  },
  {
   "cell_type": "markdown",
   "metadata": {},
   "source": [
    "random() to produce random  numbers evenly distributed between [0.0, 1.0)"
   ]
  },
  {
   "cell_type": "code",
   "execution_count": 9,
   "metadata": {},
   "outputs": [
    {
     "name": "stdout",
     "output_type": "stream",
     "text": [
      "[0.63143348 0.48428329 0.98526785 0.44005311 0.66395748 0.33740174\n",
      " 0.75886083 0.54957216 0.98238617 0.48517088]\n"
     ]
    }
   ],
   "source": [
    "x = np.random.random(10)\n",
    "print(x)"
   ]
  },
  {
   "cell_type": "markdown",
   "metadata": {},
   "source": [
    "To determine the size and dimension of a matrix: size and ndim"
   ]
  },
  {
   "cell_type": "code",
   "execution_count": 10,
   "metadata": {},
   "outputs": [
    {
     "name": "stdout",
     "output_type": "stream",
     "text": [
      "[[1 3]\n",
      " [4 5]]\n",
      "2\n",
      "4\n"
     ]
    }
   ],
   "source": [
    "print(A)\n",
    "print(A.ndim)\n",
    "print(A.size)"
   ]
  },
  {
   "cell_type": "markdown",
   "metadata": {},
   "source": [
    "genfromtxt() command is used to read data from files"
   ]
  },
  {
   "cell_type": "code",
   "execution_count": 11,
   "metadata": {},
   "outputs": [
    {
     "ename": "AttributeError",
     "evalue": "module 'numpy' has no attribute 'genfromtext'",
     "output_type": "error",
     "traceback": [
      "\u001b[1;31m---------------------------------------------------------------------------\u001b[0m",
      "\u001b[1;31mAttributeError\u001b[0m                            Traceback (most recent call last)",
      "Cell \u001b[1;32mIn[11], line 1\u001b[0m\n\u001b[1;32m----> 1\u001b[0m data \u001b[38;5;241m=\u001b[39m np\u001b[38;5;241m.\u001b[39mgenfromtext(\u001b[38;5;124m\"\u001b[39m\u001b[38;5;124mdata.csv\u001b[39m\u001b[38;5;124m\"\u001b[39m,delimeter\u001b[38;5;241m=\u001b[39m\u001b[38;5;124m\"\u001b[39m\u001b[38;5;124m,\u001b[39m\u001b[38;5;124m\"\u001b[39m,skip_header\u001b[38;5;241m=\u001b[39m\u001b[38;5;241m1\u001b[39m)\n",
      "File \u001b[1;32mc:\\Users\\Sushi\\anaconda3\\Lib\\site-packages\\numpy\\__init__.py:333\u001b[0m, in \u001b[0;36m__getattr__\u001b[1;34m(attr)\u001b[0m\n\u001b[0;32m    330\u001b[0m     \u001b[38;5;124m\"\u001b[39m\u001b[38;5;124mRemoved in NumPy 1.25.0\u001b[39m\u001b[38;5;124m\"\u001b[39m\n\u001b[0;32m    331\u001b[0m     \u001b[38;5;28;01mraise\u001b[39;00m \u001b[38;5;167;01mRuntimeError\u001b[39;00m(\u001b[38;5;124m\"\u001b[39m\u001b[38;5;124mTester was removed in NumPy 1.25.\u001b[39m\u001b[38;5;124m\"\u001b[39m)\n\u001b[1;32m--> 333\u001b[0m \u001b[38;5;28;01mraise\u001b[39;00m \u001b[38;5;167;01mAttributeError\u001b[39;00m(\u001b[38;5;124m\"\u001b[39m\u001b[38;5;124mmodule \u001b[39m\u001b[38;5;132;01m{!r}\u001b[39;00m\u001b[38;5;124m has no attribute \u001b[39m\u001b[38;5;124m\"\u001b[39m\n\u001b[0;32m    334\u001b[0m                      \u001b[38;5;124m\"\u001b[39m\u001b[38;5;132;01m{!r}\u001b[39;00m\u001b[38;5;124m\"\u001b[39m\u001b[38;5;241m.\u001b[39mformat(\u001b[38;5;18m__name__\u001b[39m, attr))\n",
      "\u001b[1;31mAttributeError\u001b[0m: module 'numpy' has no attribute 'genfromtext'"
     ]
    }
   ],
   "source": [
    "data = np.genfromtext(\"data.csv\",delimeter=\",\",skip_header=1)"
   ]
  },
  {
   "cell_type": "markdown",
   "metadata": {},
   "source": [
    "change the format of the array with reshape(n,m)"
   ]
  },
  {
   "cell_type": "code",
   "execution_count": null,
   "metadata": {},
   "outputs": [],
   "source": [
    "A = np.arange(12)\n",
    "print(np.shape(A))\n",
    "print(A.reshape(3,4))\n",
    "print(A.reshape(2,6))\n",
    "print(A.reshape(2,3,2))"
   ]
  },
  {
   "cell_type": "markdown",
   "metadata": {},
   "source": [
    "row and column can be repeated with repeat()"
   ]
  },
  {
   "cell_type": "code",
   "execution_count": null,
   "metadata": {},
   "outputs": [],
   "source": [
    "A = np.repeat([[1,2,3]],4,axis=0)\n",
    "B = np.repeat([[1],[2],[3]],3,axis=1)\n",
    "print(A)\n",
    "print(B)\n"
   ]
  },
  {
   "cell_type": "markdown",
   "metadata": {},
   "source": [
    "Be careful when copying arrays"
   ]
  },
  {
   "cell_type": "code",
   "execution_count": null,
   "metadata": {},
   "outputs": [],
   "source": [
    "A = np.array([1, 2])\n",
    "B = A\n",
    "B[0] = 99\n",
    "print(A)"
   ]
  },
  {
   "cell_type": "markdown",
   "metadata": {},
   "source": [
    "Array A has also changed! use copy() to prevent this"
   ]
  },
  {
   "cell_type": "code",
   "execution_count": 46,
   "metadata": {},
   "outputs": [],
   "source": [
    "B = A.copy()"
   ]
  },
  {
   "cell_type": "markdown",
   "metadata": {},
   "source": [
    "## Cutting matrices (indexing)\n",
    "The first index is the row, the second the column."
   ]
  },
  {
   "cell_type": "code",
   "execution_count": null,
   "metadata": {},
   "outputs": [],
   "source": [
    "A = np.array([[1,2,3],[4,5,6]])\n",
    "print(A[0,0]) \n",
    "print(A[0,1])"
   ]
  },
  {
   "cell_type": "code",
   "execution_count": null,
   "metadata": {},
   "outputs": [],
   "source": [
    "print(A[:,0]) # fisrt column, \":\"reads all rows"
   ]
  },
  {
   "cell_type": "code",
   "execution_count": null,
   "metadata": {},
   "outputs": [],
   "source": [
    "print(A[0,:]) # first row, \":\" reads all columns"
   ]
  },
  {
   "cell_type": "markdown",
   "metadata": {},
   "source": [
    "Spacing can also be used. [start: end: step]"
   ]
  },
  {
   "cell_type": "code",
   "execution_count": null,
   "metadata": {},
   "outputs": [],
   "source": [
    "A = np.array([1,2,3,4,5,6,7,8,9])\n",
    "print(A[0:6:2])"
   ]
  }
 ],
 "metadata": {
  "kernelspec": {
   "display_name": "base",
   "language": "python",
   "name": "python3"
  },
  "language_info": {
   "codemirror_mode": {
    "name": "ipython",
    "version": 3
   },
   "file_extension": ".py",
   "mimetype": "text/x-python",
   "name": "python",
   "nbconvert_exporter": "python",
   "pygments_lexer": "ipython3",
   "version": "3.11.9"
  }
 },
 "nbformat": 4,
 "nbformat_minor": 2
}

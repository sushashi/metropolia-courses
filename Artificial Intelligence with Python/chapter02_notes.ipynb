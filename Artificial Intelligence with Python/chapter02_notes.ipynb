{
 "cells": [
  {
   "cell_type": "markdown",
   "metadata": {},
   "source": [
    "# Chapter 2: Python arrays, tables, vectors, matrices\n",
    "\n",
    "## Introduction\n",
    "\n",
    "In data analysis, AI and numerical computation, it is common to gather numerical information into vectors and matrices.\n",
    "\n",
    "Vectors and matrices are actually mathematical terms related to linear algebra.\n",
    "\n",
    "$$ \n",
    "\\vec{v} = \n",
    "    \\begin{pmatrix} \n",
    "        x_1\\\\ x_2\\\\ \\vdots \\\\ x_n\n",
    "    \\end{pmatrix}\n",
    "     = (x_1, x_2, \\ldots, x_n)^T \n",
    "$$\n",
    "\n",
    "\n",
    "$$ \n",
    "A = \n",
    "    \\begin{pmatrix}\n",
    "        a_{11} & a_{12} & \\cdots & a_{1j} & \\cdots & a_{1n} \\\\\n",
    "        a_{21} & a_{22} & \\cdots & a_{2j} & \\cdots & a_{2n} \\\\\n",
    "        \\vdots & \\vdots & \\ddots & \\vdots & \\ddots & \\vdots \\\\\n",
    "        a_{i1} & a_{i2} & \\cdots & a_{ij} & \\cdots & a_{in} \\\\\n",
    "        \\vdots & \\vdots & \\ddots & \\vdots & \\ddots & \\vdots \\\\\n",
    "        a_{m1} & a_{m2} & \\cdots & a_{mj} & \\cdots & a_{mn}\n",
    "    \\end{pmatrix}\n",
    "$$ \n",
    "\n",
    "with $ a_{ij} $ the $i^{th}$ row and $j^{th}$ column of the matrix $A$.\n",
    "\n",
    "In this course, we consider a vector as a one-dimensional collection of numbers like a list. Arrays and matrices are usually two-dimensional containing information in rows and columns. Tables can also be multi-dimensional, making their visual presentation more difficult.\n",
    "\n",
    "## Numpy and Arrays\n",
    "\n",
    "Numpy is a python library that provides a lot of functionalities for numerical computing. It handles large and multi-dimensional arrays and matrices and provides functions to operate on them.\n",
    "\n",
    "Here are the most common functions:\n",
    "\n",
    "We first import the numpy library (assuming it is installed)"
   ]
  },
  {
   "cell_type": "code",
   "execution_count": 46,
   "metadata": {},
   "outputs": [],
   "source": [
    "import numpy as np"
   ]
  },
  {
   "cell_type": "markdown",
   "metadata": {},
   "source": [
    "An array is created with the array() command taking a list or a list of list as argument."
   ]
  },
  {
   "cell_type": "code",
   "execution_count": 47,
   "metadata": {},
   "outputs": [
    {
     "name": "stdout",
     "output_type": "stream",
     "text": [
      "[1 3 4 5]\n",
      "[[1 3]\n",
      " [4 5]]\n"
     ]
    }
   ],
   "source": [
    "x = np.array([1, 3, 4, 5])\n",
    "A = np.array([[1,3],[4,5]])\n",
    "print(x)\n",
    "print(A)"
   ]
  },
  {
   "cell_type": "markdown",
   "metadata": {},
   "source": [
    "It has a shape"
   ]
  },
  {
   "cell_type": "code",
   "execution_count": 48,
   "metadata": {},
   "outputs": [
    {
     "name": "stdout",
     "output_type": "stream",
     "text": [
      "(4,)\n",
      "(2, 2)\n"
     ]
    }
   ],
   "source": [
    "print(np.shape(x))\n",
    "print(np.shape(A))"
   ]
  },
  {
   "cell_type": "markdown",
   "metadata": {},
   "source": [
    "It is more convenient to create arrays from zeros(), ones() and full()"
   ]
  },
  {
   "cell_type": "code",
   "execution_count": 49,
   "metadata": {},
   "outputs": [
    {
     "name": "stdout",
     "output_type": "stream",
     "text": [
      "[0. 0. 0. 0. 0.]\n",
      "(5,)\n",
      "[[0. 0. 0. 0. 0.]\n",
      " [0. 0. 0. 0. 0.]\n",
      " [0. 0. 0. 0. 0.]\n",
      " [0. 0. 0. 0. 0.]]\n",
      "(4, 5)\n",
      "[[1. 1. 1.]\n",
      " [1. 1. 1.]]\n",
      "[[11 11 11 11 11 11 11 11]\n",
      " [11 11 11 11 11 11 11 11]\n",
      " [11 11 11 11 11 11 11 11]\n",
      " [11 11 11 11 11 11 11 11]\n",
      " [11 11 11 11 11 11 11 11]\n",
      " [11 11 11 11 11 11 11 11]\n",
      " [11 11 11 11 11 11 11 11]]\n"
     ]
    }
   ],
   "source": [
    "Z = np.zeros(5)\n",
    "print(Z)\n",
    "print(np.shape(Z))\n",
    "\n",
    "Z2 = np.zeros( (4,5) )\n",
    "print(Z2)\n",
    "print(Z2.shape)\n",
    "\n",
    "Y = np.ones( (2,3) )\n",
    "print(Y)\n",
    "\n",
    "F = np.full( (7,8), 11)\n",
    "print(F)"
   ]
  },
  {
   "cell_type": "markdown",
   "metadata": {},
   "source": [
    "We use linspace() to create an evenly spaced array of numbers with an initial, an end value and number of elements."
   ]
  },
  {
   "cell_type": "code",
   "execution_count": 50,
   "metadata": {},
   "outputs": [
    {
     "name": "stdout",
     "output_type": "stream",
     "text": [
      "[0.         0.55555556 1.11111111 1.66666667 2.22222222 2.77777778\n",
      " 3.33333333 3.88888889 4.44444444 5.        ]\n"
     ]
    }
   ],
   "source": [
    "x = np.linspace(0, 5, 10)\n",
    "print(x)"
   ]
  },
  {
   "cell_type": "markdown",
   "metadata": {},
   "source": [
    "Whereas arange() is used to create a evenly spaced arrays with a defined step length as third parameter."
   ]
  },
  {
   "cell_type": "code",
   "execution_count": 51,
   "metadata": {},
   "outputs": [
    {
     "name": "stdout",
     "output_type": "stream",
     "text": [
      "[0.  0.2 0.4 0.6 0.8 1.  1.2 1.4 1.6 1.8 2.  2.2 2.4 2.6 2.8 3.  3.2 3.4\n",
      " 3.6 3.8 4.  4.2 4.4 4.6 4.8]\n"
     ]
    }
   ],
   "source": [
    "x2 = np.arange(0, 5, 0.2)\n",
    "print(x2)"
   ]
  },
  {
   "cell_type": "markdown",
   "metadata": {},
   "source": [
    "Random numbers generation between [a, b]. (Endpoint is not included)"
   ]
  },
  {
   "cell_type": "code",
   "execution_count": 52,
   "metadata": {},
   "outputs": [
    {
     "name": "stdout",
     "output_type": "stream",
     "text": [
      "[1 5 6 4 6 5 6 3 3 4 3 3 4 1 6 5 5 3 4 3 1 5 2 4 6 1 6 1 1 6 3 6 4 2 6 2 6\n",
      " 2 3 3 4 6 4 5 3 2 1 6 6 2]\n"
     ]
    }
   ],
   "source": [
    "a = 1\n",
    "b = 6\n",
    "amount = 50\n",
    "nopat = np.random.randint(a, b+1, amount)\n",
    "print(nopat)"
   ]
  },
  {
   "cell_type": "markdown",
   "metadata": {},
   "source": [
    "Normally distributed random numbers randn()  $ X \\sim \\mathcal{N}(0,1)$"
   ]
  },
  {
   "cell_type": "code",
   "execution_count": 53,
   "metadata": {},
   "outputs": [
    {
     "name": "stdout",
     "output_type": "stream",
     "text": [
      "[ 1.55460126 -0.44810503 -1.87483573 -0.29858964 -0.31578272 -0.23224718\n",
      "  0.0803487  -0.94073411 -0.07445872  1.13269397  0.04217753 -1.76134905\n",
      " -1.0237138  -0.5900761  -1.46483612  2.43241303  0.34382958  1.03623629\n",
      "  0.56713424 -0.17795639 -0.17312412 -0.58381671  1.33945177  0.05230945\n",
      "  0.55730428  0.31210471 -1.44297934  1.28859228 -0.2582429   1.5884062\n",
      " -0.67862802  1.05336658 -0.47150596 -0.51769381 -0.28712761 -1.44546481\n",
      " -1.68144502  1.5445426   0.23649187 -2.15028148 -0.34119315 -0.06399409\n",
      "  0.41277574  0.67443338 -0.66373906  1.28221051  0.94642449 -1.33270105\n",
      " -0.4254615   0.28996499 -0.65881881 -0.86189962  0.04615967  1.52883651\n",
      " -0.71420495  1.44407387 -0.13908751 -0.62496732 -1.63491791  1.3912586\n",
      " -0.54603254 -0.03339613 -0.46193712  0.3949391  -0.05417613 -1.12503812\n",
      " -0.48062637  0.96616339  0.64095803 -0.31840161  0.12433156 -0.34819517\n",
      "  0.0242189  -1.8194765   0.69040826  2.38953078  0.48790882  0.65572075\n",
      "  0.51078523 -0.04045112 -0.65038536 -1.0731178   0.97100641 -0.28115931\n",
      " -0.92687466 -0.22305907 -0.10926854  0.77216409  0.694697   -0.80118269\n",
      "  0.81628946 -0.27803745 -1.49875333  0.98504791 -1.09301002 -1.14821398\n",
      "  0.02679922  0.3651338  -0.64155847 -1.23009634]\n"
     ]
    }
   ],
   "source": [
    "x = np.random.randn(100)\n",
    "print(x)"
   ]
  },
  {
   "cell_type": "markdown",
   "metadata": {},
   "source": [
    "random() to produce random  numbers evenly distributed between [0.0, 1.0)"
   ]
  },
  {
   "cell_type": "code",
   "execution_count": 54,
   "metadata": {},
   "outputs": [
    {
     "name": "stdout",
     "output_type": "stream",
     "text": [
      "[0.35328317 0.43928741 0.55809933 0.87582722 0.62479202 0.37108846\n",
      " 0.56875806 0.07835187 0.0539792  0.9130812 ]\n"
     ]
    }
   ],
   "source": [
    "x = np.random.random(10)\n",
    "print(x)"
   ]
  },
  {
   "cell_type": "markdown",
   "metadata": {},
   "source": [
    "To determine the size and dimension of a matrix: size and ndim"
   ]
  },
  {
   "cell_type": "code",
   "execution_count": 55,
   "metadata": {},
   "outputs": [
    {
     "name": "stdout",
     "output_type": "stream",
     "text": [
      "[[1 3]\n",
      " [4 5]]\n",
      "2\n",
      "4\n"
     ]
    }
   ],
   "source": [
    "print(A)\n",
    "print(A.ndim)\n",
    "print(A.size)"
   ]
  },
  {
   "cell_type": "markdown",
   "metadata": {},
   "source": [
    "genfromtxt() command is used to read data from files"
   ]
  },
  {
   "cell_type": "code",
   "execution_count": 56,
   "metadata": {},
   "outputs": [],
   "source": [
    "# data = np.genfromtext(\"data.csv\",delimeter=\",\",skip_header=1)"
   ]
  },
  {
   "cell_type": "markdown",
   "metadata": {},
   "source": [
    "change the format of the array with reshape(n,m)"
   ]
  },
  {
   "cell_type": "code",
   "execution_count": 57,
   "metadata": {},
   "outputs": [
    {
     "name": "stdout",
     "output_type": "stream",
     "text": [
      "(12,)\n",
      "[[ 0  1  2  3]\n",
      " [ 4  5  6  7]\n",
      " [ 8  9 10 11]]\n",
      "[[ 0  1  2  3  4  5]\n",
      " [ 6  7  8  9 10 11]]\n",
      "[[[ 0  1]\n",
      "  [ 2  3]\n",
      "  [ 4  5]]\n",
      "\n",
      " [[ 6  7]\n",
      "  [ 8  9]\n",
      "  [10 11]]]\n"
     ]
    }
   ],
   "source": [
    "A = np.arange(12)\n",
    "print(np.shape(A))\n",
    "print(A.reshape(3,4))\n",
    "print(A.reshape(2,6))\n",
    "print(A.reshape(2,3,2))"
   ]
  },
  {
   "cell_type": "markdown",
   "metadata": {},
   "source": [
    "row and column can be repeated with repeat()"
   ]
  },
  {
   "cell_type": "code",
   "execution_count": 58,
   "metadata": {},
   "outputs": [
    {
     "name": "stdout",
     "output_type": "stream",
     "text": [
      "[[1 2 3]\n",
      " [1 2 3]\n",
      " [1 2 3]\n",
      " [1 2 3]]\n",
      "[[1 1 1]\n",
      " [2 2 2]\n",
      " [3 3 3]]\n"
     ]
    }
   ],
   "source": [
    "A = np.repeat([[1,2,3]],4,axis=0)\n",
    "B = np.repeat([[1],[2],[3]],3,axis=1)\n",
    "print(A)\n",
    "print(B)\n"
   ]
  },
  {
   "cell_type": "markdown",
   "metadata": {},
   "source": [
    "Be careful when copying arrays"
   ]
  },
  {
   "cell_type": "code",
   "execution_count": 59,
   "metadata": {},
   "outputs": [
    {
     "name": "stdout",
     "output_type": "stream",
     "text": [
      "[99  2]\n"
     ]
    }
   ],
   "source": [
    "A = np.array([1, 2])\n",
    "B = A\n",
    "B[0] = 99\n",
    "print(A)"
   ]
  },
  {
   "cell_type": "markdown",
   "metadata": {},
   "source": [
    "Array A has also changed! use copy() to prevent this"
   ]
  },
  {
   "cell_type": "code",
   "execution_count": 60,
   "metadata": {},
   "outputs": [],
   "source": [
    "B = A.copy()"
   ]
  },
  {
   "cell_type": "markdown",
   "metadata": {},
   "source": [
    "## Cutting matrices (indexing)\n",
    "The first index is the row, the second the column."
   ]
  },
  {
   "cell_type": "code",
   "execution_count": 61,
   "metadata": {},
   "outputs": [
    {
     "name": "stdout",
     "output_type": "stream",
     "text": [
      "1\n",
      "2\n"
     ]
    }
   ],
   "source": [
    "A = np.array([[1,2,3],[4,5,6]])\n",
    "print(A[0,0]) \n",
    "print(A[0,1])"
   ]
  },
  {
   "cell_type": "code",
   "execution_count": 62,
   "metadata": {},
   "outputs": [
    {
     "name": "stdout",
     "output_type": "stream",
     "text": [
      "[1 4]\n"
     ]
    }
   ],
   "source": [
    "print(A[:,0]) # fisrt column, \":\"reads all rows"
   ]
  },
  {
   "cell_type": "code",
   "execution_count": 63,
   "metadata": {},
   "outputs": [
    {
     "name": "stdout",
     "output_type": "stream",
     "text": [
      "[1 2 3]\n"
     ]
    }
   ],
   "source": [
    "print(A[0,:]) # first row, \":\" reads all columns"
   ]
  },
  {
   "cell_type": "markdown",
   "metadata": {},
   "source": [
    "Spacing can also be used. [start: end: step]"
   ]
  },
  {
   "cell_type": "code",
   "execution_count": 64,
   "metadata": {},
   "outputs": [
    {
     "name": "stdout",
     "output_type": "stream",
     "text": [
      "[1 3 5]\n"
     ]
    }
   ],
   "source": [
    "A = np.array([1,2,3,4,5,6,7,8,9])\n",
    "print(A[0:6:2])"
   ]
  },
  {
   "cell_type": "markdown",
   "metadata": {},
   "source": [
    "We can also assign a number or an array to a cut"
   ]
  },
  {
   "cell_type": "code",
   "execution_count": 65,
   "metadata": {},
   "outputs": [],
   "source": [
    "A = np.array([[1,2,3],[4,5,6]])\n",
    "A[0,0] = 17\n",
    "A[1,:] = [11,12,13]"
   ]
  },
  {
   "cell_type": "markdown",
   "metadata": {},
   "source": [
    "We can stack arrays with vstack()"
   ]
  },
  {
   "cell_type": "code",
   "execution_count": 66,
   "metadata": {},
   "outputs": [
    {
     "name": "stdout",
     "output_type": "stream",
     "text": [
      "[[17  2  3]\n",
      " [11 12 13]\n",
      " [17  2  3]\n",
      " [11 12 13]]\n"
     ]
    }
   ],
   "source": [
    "new = np.vstack( (A,A) )\n",
    "print(new)"
   ]
  },
  {
   "cell_type": "markdown",
   "metadata": {},
   "source": [
    "Or horizontal stack"
   ]
  },
  {
   "cell_type": "code",
   "execution_count": 67,
   "metadata": {},
   "outputs": [
    {
     "name": "stdout",
     "output_type": "stream",
     "text": [
      "[[17  2  3 17  2  3]\n",
      " [11 12 13 11 12 13]]\n"
     ]
    }
   ],
   "source": [
    "new2 = np.hstack( (A,A) )\n",
    "print(new2)"
   ]
  },
  {
   "cell_type": "markdown",
   "metadata": {},
   "source": [
    "We can also delete a row or a column with delete(). (0 for rows, 1 for column)"
   ]
  },
  {
   "cell_type": "code",
   "execution_count": 68,
   "metadata": {},
   "outputs": [
    {
     "name": "stdout",
     "output_type": "stream",
     "text": [
      "[[11 12 13]]\n",
      "[[17  3]\n",
      " [11 13]]\n"
     ]
    }
   ],
   "source": [
    "B = np.delete(A,[0],0)\n",
    "print(B)\n",
    "C = np.delete(A,[1],1)\n",
    "print(C)"
   ]
  },
  {
   "cell_type": "markdown",
   "metadata": {},
   "source": [
    "There are different ways to traverse a table:"
   ]
  },
  {
   "cell_type": "code",
   "execution_count": 69,
   "metadata": {},
   "outputs": [
    {
     "name": "stdout",
     "output_type": "stream",
     "text": [
      "Row 0 is [1 2 3]\n",
      "Row 1 is [4 5 6]\n"
     ]
    }
   ],
   "source": [
    "A = np.array([1,2,3,4,5,6])\n",
    "A = A.reshape(2,3)\n",
    "n,m = np.shape(A)\n",
    "for i in range(n):\n",
    "    print(\"Row\",i,\"is\",A[i,:])"
   ]
  },
  {
   "cell_type": "code",
   "execution_count": 70,
   "metadata": {},
   "outputs": [
    {
     "name": "stdout",
     "output_type": "stream",
     "text": [
      "Column 0 is [1 4]\n",
      "Column 1 is [2 5]\n",
      "Column 2 is [3 6]\n"
     ]
    }
   ],
   "source": [
    "for j in range(m): \n",
    "    print(\"Column\",j,\"is\",A[:,j])"
   ]
  },
  {
   "cell_type": "code",
   "execution_count": 71,
   "metadata": {},
   "outputs": [
    {
     "name": "stdout",
     "output_type": "stream",
     "text": [
      "Element (0, 0) is 1\n",
      "Element (0, 1) is 2\n",
      "Element (0, 2) is 3\n",
      "Element (1, 0) is 4\n",
      "Element (1, 1) is 5\n",
      "Element (1, 2) is 6\n"
     ]
    }
   ],
   "source": [
    "for i in range(n):\n",
    "    for j in range(m):\n",
    "        print(\"Element ({}, {}) is {}\".format(i,j,A[i,j]))"
   ]
  },
  {
   "cell_type": "code",
   "execution_count": 72,
   "metadata": {},
   "outputs": [
    {
     "name": "stdout",
     "output_type": "stream",
     "text": [
      "1\n",
      "2\n",
      "3\n",
      "4\n",
      "5\n",
      "6\n"
     ]
    }
   ],
   "source": [
    "for a in np.nditer(A):\n",
    "    print(a)"
   ]
  },
  {
   "cell_type": "markdown",
   "metadata": {},
   "source": [
    "## Calculations with matrices\n",
    "\n",
    "Element-wise operations"
   ]
  },
  {
   "cell_type": "code",
   "execution_count": 73,
   "metadata": {},
   "outputs": [
    {
     "name": "stdout",
     "output_type": "stream",
     "text": [
      "[[ 4 11]\n",
      " [ 7  3]]\n",
      "[[-2 -7]\n",
      " [-1  5]]\n",
      "[[ 3 18]\n",
      " [12 -4]]\n",
      "[[ 0.33333333  0.22222222]\n",
      " [ 0.75       -4.        ]]\n"
     ]
    }
   ],
   "source": [
    "A = np.array([[1,2],[3,4]])\n",
    "B = np.array([[3,9],[4,-1]])\n",
    "\n",
    "print(A+B)                      # Addition\n",
    "print(A-B)                      # Subtraction\n",
    "print(A*B)                      # Multiplication\n",
    "print(A/B)                      # Division"
   ]
  },
  {
   "cell_type": "markdown",
   "metadata": {},
   "source": [
    "Operation with a scalar"
   ]
  },
  {
   "cell_type": "code",
   "execution_count": 74,
   "metadata": {},
   "outputs": [
    {
     "name": "stdout",
     "output_type": "stream",
     "text": [
      "[[5. 5. 5. 5. 5. 5. 5. 5. 5. 5.]\n",
      " [5. 5. 5. 5. 5. 5. 5. 5. 5. 5.]\n",
      " [5. 5. 5. 5. 5. 5. 5. 5. 5. 5.]\n",
      " [5. 5. 5. 5. 5. 5. 5. 5. 5. 5.]\n",
      " [5. 5. 5. 5. 5. 5. 5. 5. 5. 5.]\n",
      " [5. 5. 5. 5. 5. 5. 5. 5. 5. 5.]\n",
      " [5. 5. 5. 5. 5. 5. 5. 5. 5. 5.]\n",
      " [5. 5. 5. 5. 5. 5. 5. 5. 5. 5.]\n",
      " [5. 5. 5. 5. 5. 5. 5. 5. 5. 5.]\n",
      " [5. 5. 5. 5. 5. 5. 5. 5. 5. 5.]]\n",
      "[[0 1]\n",
      " [2 3]]\n",
      "[[ 5 11]\n",
      " [ 6  1]]\n"
     ]
    }
   ],
   "source": [
    "T = 5*np.ones((10,10))\n",
    "print(T)\n",
    "\n",
    "print(A-1)\n",
    "print(B+2)"
   ]
  },
  {
   "cell_type": "markdown",
   "metadata": {},
   "source": [
    "Element-wise increase in power"
   ]
  },
  {
   "cell_type": "code",
   "execution_count": 75,
   "metadata": {},
   "outputs": [
    {
     "name": "stdout",
     "output_type": "stream",
     "text": [
      "[[ 1  4]\n",
      " [ 9 16]]\n"
     ]
    }
   ],
   "source": [
    "print(A**2)"
   ]
  },
  {
   "cell_type": "markdown",
   "metadata": {},
   "source": [
    "[Matrix multiplication](https://en.wikipedia.org/wiki/Matrix_multiplication) with matmul() or @"
   ]
  },
  {
   "cell_type": "code",
   "execution_count": 76,
   "metadata": {},
   "outputs": [
    {
     "name": "stdout",
     "output_type": "stream",
     "text": [
      "[[11  7]\n",
      " [25 23]]\n",
      "[[11  7]\n",
      " [25 23]]\n"
     ]
    }
   ],
   "source": [
    "print( np.matmul(A,B) )\n",
    "print( A @ B)"
   ]
  },
  {
   "cell_type": "markdown",
   "metadata": {},
   "source": [
    "[Dot product](https://en.wikipedia.org/wiki/Dot_product) (Scalar product)"
   ]
  },
  {
   "cell_type": "code",
   "execution_count": 77,
   "metadata": {},
   "outputs": [
    {
     "data": {
      "text/plain": [
       "3.090658108629503"
      ]
     },
     "execution_count": 77,
     "metadata": {},
     "output_type": "execute_result"
    }
   ],
   "source": [
    "x.dot(x)"
   ]
  },
  {
   "cell_type": "markdown",
   "metadata": {},
   "source": [
    "Matrix multiplication between a vector and a matrix"
   ]
  },
  {
   "cell_type": "code",
   "execution_count": 78,
   "metadata": {},
   "outputs": [
    {
     "name": "stdout",
     "output_type": "stream",
     "text": [
      "[[19]\n",
      " [43]]\n"
     ]
    }
   ],
   "source": [
    "b = np.array([[5],[7]])\n",
    "y = np.matmul(A,b)\n",
    "print(y)"
   ]
  },
  {
   "cell_type": "markdown",
   "metadata": {},
   "source": [
    "Use the numpy library and not the math library for calculations such as"
   ]
  },
  {
   "cell_type": "code",
   "execution_count": 79,
   "metadata": {},
   "outputs": [
    {
     "data": {
      "text/plain": [
       "array([[0.       , 1.       ],\n",
       "       [1.5849625, 2.       ]])"
      ]
     },
     "execution_count": 79,
     "metadata": {},
     "output_type": "execute_result"
    }
   ],
   "source": [
    "np.sqrt(A) # the square root of each item\n",
    "np.sin(A)\n",
    "np.cos(A)\n",
    "np.tan(A)\n",
    "np.log(A)\n",
    "np.exp(A)\n",
    "np.log10(A)\n",
    "np.log2(A)"
   ]
  },
  {
   "cell_type": "markdown",
   "metadata": {},
   "source": [
    "Comparison operators also target matrices element-wise"
   ]
  },
  {
   "cell_type": "code",
   "execution_count": 80,
   "metadata": {},
   "outputs": [
    {
     "name": "stdout",
     "output_type": "stream",
     "text": [
      "[[False  True]\n",
      " [ True  True]]\n"
     ]
    }
   ],
   "source": [
    "print(A > 1)"
   ]
  },
  {
   "cell_type": "markdown",
   "metadata": {},
   "source": [
    "We can also check that all() or any() elements of the matrix is true or false"
   ]
  },
  {
   "cell_type": "code",
   "execution_count": 81,
   "metadata": {},
   "outputs": [
    {
     "data": {
      "text/plain": [
       "True"
      ]
     },
     "execution_count": 81,
     "metadata": {},
     "output_type": "execute_result"
    }
   ],
   "source": [
    "np.all(A>1)\n",
    "np.any(A>1)"
   ]
  },
  {
   "cell_type": "markdown",
   "metadata": {},
   "source": [
    "And extract these elements"
   ]
  },
  {
   "cell_type": "code",
   "execution_count": 82,
   "metadata": {},
   "outputs": [
    {
     "name": "stdout",
     "output_type": "stream",
     "text": [
      "[4 5 6 7]\n"
     ]
    }
   ],
   "source": [
    "A = np.array([1,2,3,4,5,6,7])\n",
    "B = A[A>3]\n",
    "print(B)"
   ]
  },
  {
   "cell_type": "markdown",
   "metadata": {},
   "source": [
    "#### Example using matrix multiplication to solve a linear equation\n",
    "\n",
    "Consider a pair of equations: \n",
    "$$ \n",
    "    \\left\\{\n",
    "        \\begin{aligned}\n",
    "            2x + y &= 11 \\\\\n",
    "            -4x + 3y &= 3\n",
    "        \\end{aligned}\n",
    "    \\right.\n",
    "$$\n",
    "\n",
    "This can be represented by a vector and a matrix in the following form:\n",
    "$$\n",
    "    \\begin{pmatrix}\n",
    "        2x + y \\\\\n",
    "        -4x + 3y\n",
    "    \\end{pmatrix}\n",
    "    =\n",
    "    \\begin{pmatrix}\n",
    "        11 \\\\\n",
    "        3\n",
    "    \\end{pmatrix}\n",
    "\n",
    "$$\n",
    "\n",
    "It can be rewritten as:\n",
    "$$\n",
    "    \\begin{pmatrix}\n",
    "        2 & 1\\\\\n",
    "        -4 & 3\n",
    "    \\end{pmatrix}\n",
    "        \\begin{pmatrix}\n",
    "        x \\\\\n",
    "        y\n",
    "    \\end{pmatrix} = \n",
    "        \\begin{pmatrix}\n",
    "        11 \\\\\n",
    "        3\n",
    "    \\end{pmatrix} = AX = b\n",
    "$$\n",
    "\n",
    "And we solve for $ X = A^{-1}b $ "
   ]
  },
  {
   "cell_type": "code",
   "execution_count": 83,
   "metadata": {},
   "outputs": [
    {
     "name": "stdout",
     "output_type": "stream",
     "text": [
      "[3. 5.]\n"
     ]
    }
   ],
   "source": [
    "A = np.array([[2,1],[-4,3]])\n",
    "b = np.array([11,3])\n",
    "X = np.linalg.solve(A,b)\n",
    "print(X)"
   ]
  },
  {
   "cell_type": "code",
   "execution_count": 84,
   "metadata": {},
   "outputs": [
    {
     "name": "stdout",
     "output_type": "stream",
     "text": [
      "[3. 5.]\n"
     ]
    }
   ],
   "source": [
    "Ainv = np.linalg.inv(A)\n",
    "print(np.matmul(Ainv,b))"
   ]
  },
  {
   "cell_type": "markdown",
   "metadata": {},
   "source": [
    "#### Statistical indicators for matrices\n",
    "\n",
    "Elementary statistical indicator can be computed to summarize elements of matrices. The common one are sum(), prod(), min(), max(), mean(), median(), std(), var(). An example for sum() is provided below:"
   ]
  },
  {
   "cell_type": "code",
   "execution_count": 85,
   "metadata": {},
   "outputs": [
    {
     "name": "stdout",
     "output_type": "stream",
     "text": [
      "21\n",
      "[5 7 9]\n",
      "[ 6 15]\n"
     ]
    }
   ],
   "source": [
    "A = np.array([[1,2,3],[4,5,6]])\n",
    "print(np.sum(A))\n",
    "print(np.sum(A,0)) # column sums, summed along rows\n",
    "print(np.sum(A,1)) # row sums, summed along the columns"
   ]
  }
 ],
 "metadata": {
  "kernelspec": {
   "display_name": "base",
   "language": "python",
   "name": "python3"
  },
  "language_info": {
   "codemirror_mode": {
    "name": "ipython",
    "version": 3
   },
   "file_extension": ".py",
   "mimetype": "text/x-python",
   "name": "python",
   "nbconvert_exporter": "python",
   "pygments_lexer": "ipython3",
   "version": "3.11.9"
  }
 },
 "nbformat": 4,
 "nbformat_minor": 2
}

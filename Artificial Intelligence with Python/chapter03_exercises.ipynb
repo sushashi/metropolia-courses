{
 "cells": [
  {
   "cell_type": "markdown",
   "metadata": {},
   "source": [
    "Watch the documentary AlphaGo - The Movie\n",
    "\n",
    "https://www.youtube.com/watch?v=WXuK6gekU1Y\n",
    "\n",
    "and answer in your own words (Finnish or English):\n",
    "\n",
    "- what AI or machine learning terms were mentioned?\n",
    "- what, if any, machine learning types AlphaGo uses?\n",
    "- why do you think Go was chosen as the target for AI development?\n",
    "- what impressed you the most?"
   ]
  },
  {
   "cell_type": "markdown",
   "metadata": {},
   "source": [
    "Watch\n",
    "\n",
    "https://www.youtube.com/watch?v=NP8xt8o4_5Q\n",
    "\n",
    "and answer in your own words (Finnish or English):\n",
    "\n",
    "1. would you say that Deep Blue was intelligent? Explain.\n",
    "2. what contributed to Deep Blue's success and how? Who/what should get credit for it?"
   ]
  },
  {
   "cell_type": "markdown",
   "metadata": {},
   "source": [
    "Watch the Google Duplex demo at\n",
    "\n",
    "https://www.youtube.com/watch?v=D5VN56jQMWM\n",
    "\n",
    "and answer in your own words (Finnish or English):\n",
    "\n",
    "1. What implications do you think such digital assistants will have for people?\n",
    "2. What opportunities it might open for businesses?\n",
    "3. Is Google Duplex narrow, general or super AI? Explain.\n",
    "4. What impressed you most in this demo?"
   ]
  },
  {
   "cell_type": "markdown",
   "metadata": {},
   "source": [
    "Watch the video (first 15 minutes or so)\n",
    "\n",
    "https://www.youtube.com/watch?v=MGW_Qcqr9eQ\n",
    "\n",
    "(Turing Test: can machines think?)\n",
    "\n",
    "and answer in your own words (Finnish or English):\n",
    "\n",
    "1. What the author has to say about the importance of the Turing test?\n",
    "2. How Turing test is conducted?\n",
    "3. What Turing predicted would happen by 2000?  Did it happen in your opinion?\n",
    "4. What parts of Mitsuku's 2016 transcript resemble human conversation the most?\n",
    "5. Who was Eugene Goostman?"
   ]
  }
 ],
 "metadata": {
  "language_info": {
   "name": "python"
  }
 },
 "nbformat": 4,
 "nbformat_minor": 2
}

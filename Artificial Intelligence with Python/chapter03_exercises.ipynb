{
 "cells": [
  {
   "cell_type": "markdown",
   "metadata": {},
   "source": [
    "Watch the documentary AlphaGo - The Movie\n",
    "\n",
    "https://www.youtube.com/watch?v=WXuK6gekU1Y\n",
    "\n",
    "and answer in your own words (Finnish or English):\n",
    "\n",
    "- what AI or machine learning terms were mentioned?\n",
    "- what, if any, machine learning types AlphaGo uses?\n",
    "- why do you think Go was chosen as the target for AI development?\n",
    "- what impressed you the most?\n",
    "\n",
    "Several terms was mentioned during the documentary such as artificial intelligence, deep learning, neural networks and reinforcement learning. \n",
    "\n",
    "The type of machine learning AlphaGo uses is reinforcement learning where no training data is given and where agent interacts with the environment and learns based on feedbacks from the action of the other player.\n",
    "\n",
    "Go was chosen as the target for AI development because of the number of possible board configurations it can have that exceeds far more than chess even if the basic rule of the game is simple. For this reason, it is a game that humans have to think and use their intuition, that is why it is a challenge for developers to try to mimic these traits in human intelligence rather than \"brute-forcing\" all the possibilities.\n",
    "\n",
    "The most impressing moment in the documentary was about the move 37 in which the AlphaGo demonstrated some sort of creativity by surprising everyone in a move that even humans would normally not do. That move even destabilized the Go champion."
   ]
  },
  {
   "cell_type": "markdown",
   "metadata": {},
   "source": [
    "Watch\n",
    "\n",
    "https://www.youtube.com/watch?v=NP8xt8o4_5Q\n",
    "\n",
    "and answer in your own words (Finnish or English):\n",
    "\n",
    "1. would you say that Deep Blue was intelligent? Explain.\n",
    "2. what contributed to Deep Blue's success and how? Who/what should get credit for it?\n",
    "\n",
    "Deep Blue was not intelligent in the sense that Alan Turing had envisioned because it does not demonstrate any type of thinking but rather a brute force approach that calculates 200 millions of positions per second. This kind of raw processing doesn't provide much insight into human intelligence.\n",
    "\n",
    "At the end of the day, humans, or more specifically, the team behind Deep Blue contributed to the success of Deep Blue. What contributed to the success was the increase of raw processing powers that allowed faster calculation speeds and specific algorithm specifically designed to calculate chess positions."
   ]
  },
  {
   "cell_type": "markdown",
   "metadata": {},
   "source": [
    "Watch the Google Duplex demo at\n",
    "\n",
    "https://www.youtube.com/watch?v=D5VN56jQMWM\n",
    "\n",
    "and answer in your own words (Finnish or English):\n",
    "\n",
    "1. What implications do you think such digital assistants will have for people?\n",
    "2. What opportunities it might open for businesses?\n",
    "3. Is Google Duplex narrow, general or super AI? Explain.\n",
    "4. What impressed you most in this demo?\n",
    "\n",
    "Google Duplex would have several significant implications for people such as:\n",
    "- It would be time-saving for people since it can offload simple time-consuming task like making a reservation to the AI assistant.\n",
    "- It is also convenient since the AI can handle a task during busy hours or when we are not available, ie. booking a restaurant for midday while we are in a meeting.\n",
    "- It is always available and never forget, it can try to reach someone hardly reachable by making automatic calls every hour. \n",
    "- It can also help shy people.\n",
    "We can see that there is a lot of implications for such a digital assistants.\n",
    "\n",
    "Opportunities for businesses might be:\n",
    "- We need less people to handle reservations.\n",
    "- Very high availability, the bot can answer a phone call and book reservations 24/24 7/7.\n",
    "- Automated check with agendas leading to more precisions and optimized booking.\n",
    "\n",
    "Google Duplex is considered a narrow AI since it is specifically designed for a dedicated task with intelligence.\n",
    "\n",
    "A lot of aspects in this demo was impressing such as the ability to understand and answers what the interlocutor proposed, the use of a human sound to fill the gap with a \"hum hum\" and to complete the task without hassle. But the most impressive is that it was able to handle unexpected situation such as the last conversation with misunderstanding. "
   ]
  },
  {
   "cell_type": "markdown",
   "metadata": {},
   "source": [
    "Watch the video (first 15 minutes or so)\n",
    "\n",
    "https://www.youtube.com/watch?v=MGW_Qcqr9eQ\n",
    "\n",
    "(Turing Test: can machines think?)\n",
    "\n",
    "and answer in your own words (Finnish or English):\n",
    "\n",
    "1. What the author has to say about the importance of the Turing test?\n",
    "2. How Turing test is conducted?\n",
    "3. What Turing predicted would happen by 2000?  Did it happen in your opinion?\n",
    "4. What parts of Mitsuku's 2016 transcript resemble human conversation the most?\n",
    "5. Who was Eugene Goostman?\n",
    "\n",
    "For the author Lex Fridman, this is the most impactful paper in the history of artificial intelligence because it proposes a concrete way to test machine intelligence.\n",
    "\n",
    "The turing test or the imitation game is conducted as follows: There is a human interrogator on one side of the wall and there is two entities on the other side, a human and a machine. The interrogator has a written conversation with both entities and has to decide which one is a computer and which one is a human.\n",
    "\n",
    "By 2000, Turing predicted that a machine with 100MB of storage will fool 30% of humans in a 5 minutes test, that people will no longer consider \"thinking machine\" contradictory and that machine learning is important. I don't think it happened back in 2000 even with some computational power gain back then, I don't think it was able to fool humans. AI was not really a main topic so considering \"thinking machine\" not contradictory did not pass. And machine learning was the beginning of a hot topic.\n",
    "\n",
    "In the Mitsuku's 2016, maybe expressing opinions about team's performance and claiming to support a specific team is considered the most human conversation in this transcript.\n",
    "\n",
    "Eugene Goostman was a chatbot portrayed as a 13 year old boy from Ukraine that has passed the Turing test in 2014. He had some humour and some personality quirk."
   ]
  }
 ],
 "metadata": {
  "language_info": {
   "name": "python"
  }
 },
 "nbformat": 4,
 "nbformat_minor": 2
}

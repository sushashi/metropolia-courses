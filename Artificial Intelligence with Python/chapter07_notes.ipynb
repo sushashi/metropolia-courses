{
 "cells": [
  {
   "cell_type": "markdown",
   "metadata": {},
   "source": [
    "# Chapter 7: AI Classification 2\n",
    "\n",
    "## Support vector machines SVM\n",
    "\n",
    "Suppose we are dealing with a binary classification problem with these observations with each color representing two different classes.\n",
    "\n",
    "![sv01](../Artificial%20Intelligence%20with%20Python/pics/svm01.png)\n",
    "\n",
    "We would like to find a way to separate the classes by a **decision boundary**. But which line? The line that provides the largest margin of error for misclassification.\n",
    "\n",
    "Straight lines to separate classes |  Optimal line with largest margins\n",
    ":-------------------------:|:-------------------------:\n",
    "![sv02](../Artificial%20Intelligence%20with%20Python/pics/svm02.png)  |  ![svm03](../Artificial%20Intelligence%20with%20Python/pics/svm03.png)\n",
    "\n",
    "The blue dashed line and black solid lines form \"a street\" and the median line (blue dashed line) is the one that maximizes the separation. We also say that it provides the largest margin between the samples. In the prediction step, points above the median line would be classified as blue and the points below as red. That acts as the **decision boundary**.\n",
    "\n",
    "In the above picture the single blue and red dots touching the solid black lines are called the **support vectors**.\n",
    "\n",
    "Maximizing the width street (separation margin) leads to a quadratic optimization problem (outside the scope of this course [wiki](https://en.wikipedia.org/wiki/Support_vector_machine))\n",
    "\n",
    "The same idea works in higher dimensions too. For three dimensional we look for a plane separating the classes.\n",
    "\n",
    "For example by mapping data points to $ z = x^2 + y^2 $\n",
    "\n",
    "Initially not linearly separable |  Transform data points in 3D space\n",
    ":-------------------------:|:-------------------------:\n",
    "![sv04](../Artificial%20Intelligence%20with%20Python/pics/svm04.png)  |  ![svm05](../Artificial%20Intelligence%20with%20Python/pics/svm05.png)\n",
    "\n",
    "Now it can be separable by a hyperplane. It works in many dimensions and there are also many nonlinear transformation such as polynomial, exponential, (radial basis function, RBF), sigmoid and so on.\n",
    "\n",
    "Now let's show SVM in action with sklearn.\n",
    "\n",
    "## SVM in python\n",
    "\n",
    "Let's use SVM to classify the iris flowers dataset. Sklearn provides `SVC()`."
   ]
  },
  {
   "cell_type": "code",
   "execution_count": 1,
   "metadata": {},
   "outputs": [],
   "source": [
    "import pandas as pd\n",
    "import os\n",
    "import matplotlib.pyplot as plt\n",
    "from sklearn.model_selection import train_test_split\n",
    "from sklearn.svm import SVC\n",
    "from sklearn.metrics import classification_report, confusion_matrix, ConfusionMatrixDisplay"
   ]
  },
  {
   "cell_type": "code",
   "execution_count": 2,
   "metadata": {},
   "outputs": [
    {
     "data": {
      "text/html": [
       "<div>\n",
       "<style scoped>\n",
       "    .dataframe tbody tr th:only-of-type {\n",
       "        vertical-align: middle;\n",
       "    }\n",
       "\n",
       "    .dataframe tbody tr th {\n",
       "        vertical-align: top;\n",
       "    }\n",
       "\n",
       "    .dataframe thead th {\n",
       "        text-align: right;\n",
       "    }\n",
       "</style>\n",
       "<table border=\"1\" class=\"dataframe\">\n",
       "  <thead>\n",
       "    <tr style=\"text-align: right;\">\n",
       "      <th></th>\n",
       "      <th>sepal.length</th>\n",
       "      <th>sepal.width</th>\n",
       "      <th>petal.length</th>\n",
       "      <th>petal.width</th>\n",
       "      <th>variety</th>\n",
       "    </tr>\n",
       "  </thead>\n",
       "  <tbody>\n",
       "    <tr>\n",
       "      <th>0</th>\n",
       "      <td>5.1</td>\n",
       "      <td>3.5</td>\n",
       "      <td>1.4</td>\n",
       "      <td>0.2</td>\n",
       "      <td>Setosa</td>\n",
       "    </tr>\n",
       "    <tr>\n",
       "      <th>1</th>\n",
       "      <td>4.9</td>\n",
       "      <td>3.0</td>\n",
       "      <td>1.4</td>\n",
       "      <td>0.2</td>\n",
       "      <td>Setosa</td>\n",
       "    </tr>\n",
       "    <tr>\n",
       "      <th>2</th>\n",
       "      <td>4.7</td>\n",
       "      <td>3.2</td>\n",
       "      <td>1.3</td>\n",
       "      <td>0.2</td>\n",
       "      <td>Setosa</td>\n",
       "    </tr>\n",
       "    <tr>\n",
       "      <th>3</th>\n",
       "      <td>4.6</td>\n",
       "      <td>3.1</td>\n",
       "      <td>1.5</td>\n",
       "      <td>0.2</td>\n",
       "      <td>Setosa</td>\n",
       "    </tr>\n",
       "    <tr>\n",
       "      <th>4</th>\n",
       "      <td>5.0</td>\n",
       "      <td>3.6</td>\n",
       "      <td>1.4</td>\n",
       "      <td>0.2</td>\n",
       "      <td>Setosa</td>\n",
       "    </tr>\n",
       "  </tbody>\n",
       "</table>\n",
       "</div>"
      ],
      "text/plain": [
       "   sepal.length  sepal.width  petal.length  petal.width variety\n",
       "0           5.1          3.5           1.4          0.2  Setosa\n",
       "1           4.9          3.0           1.4          0.2  Setosa\n",
       "2           4.7          3.2           1.3          0.2  Setosa\n",
       "3           4.6          3.1           1.5          0.2  Setosa\n",
       "4           5.0          3.6           1.4          0.2  Setosa"
      ]
     },
     "execution_count": 2,
     "metadata": {},
     "output_type": "execute_result"
    }
   ],
   "source": [
    "path = os.path.join(os.getcwd(), \"data/iris.csv\")\n",
    "df = pd.read_csv(path)\n",
    "df.head()"
   ]
  },
  {
   "cell_type": "code",
   "execution_count": 3,
   "metadata": {},
   "outputs": [],
   "source": [
    "X = df.drop('variety',axis=1)\n",
    "y = df['variety']\n",
    "\n",
    "X_train, X_test, y_train, y_test = train_test_split(X, y, test_size = 0.20, random_state=20)"
   ]
  },
  {
   "cell_type": "markdown",
   "metadata": {},
   "source": [
    "We first use the linear kernel in `SVC()`."
   ]
  },
  {
   "cell_type": "code",
   "execution_count": 4,
   "metadata": {},
   "outputs": [
    {
     "data": {
      "image/png": "[encoded data removed]",
      "text/plain": [
       "<Figure size 640x480 with 2 Axes>"
      ]
     },
     "metadata": {},
     "output_type": "display_data"
    },
    {
     "name": "stdout",
     "output_type": "stream",
     "text": [
      "              precision    recall  f1-score   support\n",
      "\n",
      "      Setosa       1.00      1.00      1.00         8\n",
      "  Versicolor       0.92      1.00      0.96        11\n",
      "   Virginica       1.00      0.91      0.95        11\n",
      "\n",
      "    accuracy                           0.97        30\n",
      "   macro avg       0.97      0.97      0.97        30\n",
      "weighted avg       0.97      0.97      0.97        30\n",
      "\n"
     ]
    }
   ],
   "source": [
    "svclassifier = SVC(kernel='linear')\n",
    "svclassifier.fit(X_train, y_train)\n",
    "y_pred = svclassifier.predict(X_test)\n",
    "\n",
    "ConfusionMatrixDisplay.from_estimator(svclassifier,X_test, y_test)\n",
    "plt.show()\n",
    "print(classification_report(y_test,y_pred))\n"
   ]
  },
  {
   "cell_type": "code",
   "execution_count": 5,
   "metadata": {},
   "outputs": [
    {
     "data": {
      "image/png": "[encoded data removed]",
      "text/plain": [
       "<Figure size 640x480 with 2 Axes>"
      ]
     },
     "metadata": {},
     "output_type": "display_data"
    },
    {
     "name": "stdout",
     "output_type": "stream",
     "text": [
      "              precision    recall  f1-score   support\n",
      "\n",
      "      Setosa       1.00      1.00      1.00         8\n",
      "  Versicolor       1.00      1.00      1.00        11\n",
      "   Virginica       1.00      1.00      1.00        11\n",
      "\n",
      "    accuracy                           1.00        30\n",
      "   macro avg       1.00      1.00      1.00        30\n",
      "weighted avg       1.00      1.00      1.00        30\n",
      "\n"
     ]
    }
   ],
   "source": [
    "svclassifier = SVC(kernel='poly', degree=2)\n",
    "svclassifier.fit(X_train, y_train)\n",
    "y_pred = svclassifier.predict(X_test)\n",
    "ConfusionMatrixDisplay.from_estimator(svclassifier,X_test, y_test)\n",
    "plt.show()\n",
    "print(classification_report(y_test,y_pred))"
   ]
  },
  {
   "cell_type": "code",
   "execution_count": 6,
   "metadata": {},
   "outputs": [
    {
     "data": {
      "image/png": "[encoded data removed]",
      "text/plain": [
       "<Figure size 640x480 with 2 Axes>"
      ]
     },
     "metadata": {},
     "output_type": "display_data"
    },
    {
     "name": "stdout",
     "output_type": "stream",
     "text": [
      "              precision    recall  f1-score   support\n",
      "\n",
      "      Setosa       1.00      1.00      1.00         8\n",
      "  Versicolor       1.00      1.00      1.00        11\n",
      "   Virginica       1.00      1.00      1.00        11\n",
      "\n",
      "    accuracy                           1.00        30\n",
      "   macro avg       1.00      1.00      1.00        30\n",
      "weighted avg       1.00      1.00      1.00        30\n",
      "\n"
     ]
    }
   ],
   "source": [
    "svclassifier = SVC(kernel='rbf')\n",
    "svclassifier.fit(X_train, y_train)\n",
    "y_pred = svclassifier.predict(X_test)\n",
    "ConfusionMatrixDisplay.from_estimator(svclassifier,X_test, y_test)\n",
    "plt.show()\n",
    "print(classification_report(y_test,y_pred))"
   ]
  },
  {
   "cell_type": "markdown",
   "metadata": {},
   "source": [
    "We can see that using second degree polynomial `kernel = 'poly'` and radial basis function (Gaussian exponential function) `kernel = 'rbf'` leads to better performance.\n",
    "\n",
    "Note tha SVM is in its essence an algorithm for binary classification, sklearn allows us to apply it to multiclass classification as well. It achieves this by using a one-vs-rest strategy:\n",
    "- class 1 vs (class 2, class 3)\n",
    "- class 2 vs (class 1, class 3)\n",
    "- class 3 vs (class 1, class 2)"
   ]
  },
  {
   "cell_type": "markdown",
   "metadata": {},
   "source": [
    "## Feature scaling\n",
    "\n",
    "When dealing with multiple explanatory variables it often makes a difference in machine learning models how the variables are scaled. Some variables may have large numbers  while other only small values. It may have opposite signs.\n",
    "\n",
    "There are two common methods to rescale values:\n",
    "\n",
    "- **Normalization**: subtract the min value from all numbers and divide by the difference between the smallest and largest value.\n",
    "$$ X_{norm} = \\frac{X - X_{min} }{X_{max} - X_{min} } $$\n",
    "\n",
    "- **Standardization**: subtract by the mean value and divide by its standard deviation leading to a variable of mean zero and sdev of 1 (Standard normal distribution).\n",
    "$$ X_{std} = \\frac{X - \\overline{X}}{std(X)} $$\n",
    "\n",
    "- It is usually best to use normalization if variable is not Gaussian.\n",
    "- Normalization does put bounds on new values.\n",
    "- Using both methods leads to **loss of information** about the **unit**\n",
    "\n",
    "Sklearn provides functions in the preprocessing module as `MinMaxScaler` and `StandardScaler`.\n",
    "\n",
    "Let's try them with the students' heights and weights dataset."
   ]
  },
  {
   "cell_type": "code",
   "execution_count": 7,
   "metadata": {},
   "outputs": [],
   "source": [
    "import matplotlib.pyplot as plt\n",
    "from sklearn.preprocessing import MinMaxScaler, StandardScaler\n",
    "import pandas as pd\n",
    "import numpy as np"
   ]
  },
  {
   "cell_type": "code",
   "execution_count": 8,
   "metadata": {},
   "outputs": [
    {
     "data": {
      "text/plain": [
       "array([[187.57142322],\n",
       "       [174.70603628],\n",
       "       [188.2396677 ],\n",
       "       ...,\n",
       "       [162.22470022],\n",
       "       [175.34697755],\n",
       "       [157.33838453]])"
      ]
     },
     "execution_count": 8,
     "metadata": {},
     "output_type": "execute_result"
    }
   ],
   "source": [
    "path = os.path.join(os.getcwd(), \"data/weight-height.csv\")\n",
    "df = pd.read_csv(path)\n",
    "X = np.array(2.54* df.Height).reshape(-1,1)\n",
    "X"
   ]
  },
  {
   "cell_type": "markdown",
   "metadata": {},
   "source": [
    "Scaled them as follows"
   ]
  },
  {
   "cell_type": "code",
   "execution_count": 9,
   "metadata": {},
   "outputs": [
    {
     "data": {
      "image/png": "[encoded data removed]",
      "text/plain": [
       "<Figure size 1400x400 with 3 Axes>"
      ]
     },
     "metadata": {},
     "output_type": "display_data"
    }
   ],
   "source": [
    "X_mm = MinMaxScaler().fit_transform(X)\n",
    "X_std = StandardScaler().fit_transform(X)\n",
    "\n",
    "X = np.array(X)\n",
    "X_mm = np.array(X_mm)\n",
    "X_std = np.array(X_std)\n",
    "\n",
    "plt.figure(figsize=(14,4))\n",
    "plt.subplot(1,3,1)\n",
    "plt.hist(X,30)\n",
    "plt.xlabel(\"Height\")\n",
    "plt.title(\"original\")\n",
    "plt.subplot(1,3,2)\n",
    "plt.hist(X_mm,30)\n",
    "plt.title(\"Normalized\")\n",
    "plt.subplot(1,3,3)\n",
    "plt.hist(X_std,30)\n",
    "plt.title(\"Standardized\")\n",
    "plt.show()"
   ]
  },
  {
   "cell_type": "markdown",
   "metadata": {},
   "source": [
    "Using the formulas:"
   ]
  },
  {
   "cell_type": "code",
   "execution_count": 10,
   "metadata": {},
   "outputs": [
    {
     "name": "stdout",
     "output_type": "stream",
     "text": [
      "diff= 3.3306690738754696e-16\n",
      "diff2= 0.0\n"
     ]
    }
   ],
   "source": [
    "X_mm2 = (X-np.min(X))/(np.max(X)-np.min(X))\n",
    "print(\"diff=\",np.max(np.abs(X_mm-X_mm2)))\n",
    "\n",
    "X_std2 = (X-np.mean(X))/np.std(X)\n",
    "print(\"diff2=\",np.max(np.abs(X_std-X_std2)))"
   ]
  },
  {
   "cell_type": "markdown",
   "metadata": {},
   "source": [
    "## Effect of feature scaling in machine learning\n",
    "\n",
    "Let's investigate how feature scaling affects the performance of a machine learning model with knn algorithm with the university admission data."
   ]
  },
  {
   "cell_type": "code",
   "execution_count": 11,
   "metadata": {},
   "outputs": [],
   "source": [
    "import matplotlib.pyplot as plt\n",
    "from sklearn import neighbors\n",
    "from sklearn.model_selection import train_test_split\n",
    "from sklearn.preprocessing import MinMaxScaler, StandardScaler\n",
    "import pandas as pd\n",
    "import numpy as np\n",
    "import os"
   ]
  },
  {
   "cell_type": "code",
   "execution_count": 12,
   "metadata": {},
   "outputs": [
    {
     "data": {
      "text/html": [
       "<div>\n",
       "<style scoped>\n",
       "    .dataframe tbody tr th:only-of-type {\n",
       "        vertical-align: middle;\n",
       "    }\n",
       "\n",
       "    .dataframe tbody tr th {\n",
       "        vertical-align: top;\n",
       "    }\n",
       "\n",
       "    .dataframe thead th {\n",
       "        text-align: right;\n",
       "    }\n",
       "</style>\n",
       "<table border=\"1\" class=\"dataframe\">\n",
       "  <thead>\n",
       "    <tr style=\"text-align: right;\">\n",
       "      <th></th>\n",
       "      <th>Serial No.</th>\n",
       "      <th>GRE Score</th>\n",
       "      <th>TOEFL Score</th>\n",
       "      <th>University Rating</th>\n",
       "      <th>SOP</th>\n",
       "      <th>LOR</th>\n",
       "      <th>CGPA</th>\n",
       "      <th>Research</th>\n",
       "      <th>Chance of Admit</th>\n",
       "    </tr>\n",
       "  </thead>\n",
       "  <tbody>\n",
       "    <tr>\n",
       "      <th>0</th>\n",
       "      <td>1</td>\n",
       "      <td>337</td>\n",
       "      <td>118</td>\n",
       "      <td>4</td>\n",
       "      <td>4.5</td>\n",
       "      <td>4.5</td>\n",
       "      <td>9.65</td>\n",
       "      <td>1</td>\n",
       "      <td>0.92</td>\n",
       "    </tr>\n",
       "    <tr>\n",
       "      <th>1</th>\n",
       "      <td>2</td>\n",
       "      <td>324</td>\n",
       "      <td>107</td>\n",
       "      <td>4</td>\n",
       "      <td>4.0</td>\n",
       "      <td>4.5</td>\n",
       "      <td>8.87</td>\n",
       "      <td>1</td>\n",
       "      <td>0.76</td>\n",
       "    </tr>\n",
       "    <tr>\n",
       "      <th>2</th>\n",
       "      <td>3</td>\n",
       "      <td>316</td>\n",
       "      <td>104</td>\n",
       "      <td>3</td>\n",
       "      <td>3.0</td>\n",
       "      <td>3.5</td>\n",
       "      <td>8.00</td>\n",
       "      <td>1</td>\n",
       "      <td>0.72</td>\n",
       "    </tr>\n",
       "    <tr>\n",
       "      <th>3</th>\n",
       "      <td>4</td>\n",
       "      <td>322</td>\n",
       "      <td>110</td>\n",
       "      <td>3</td>\n",
       "      <td>3.5</td>\n",
       "      <td>2.5</td>\n",
       "      <td>8.67</td>\n",
       "      <td>1</td>\n",
       "      <td>0.80</td>\n",
       "    </tr>\n",
       "    <tr>\n",
       "      <th>4</th>\n",
       "      <td>5</td>\n",
       "      <td>314</td>\n",
       "      <td>103</td>\n",
       "      <td>2</td>\n",
       "      <td>2.0</td>\n",
       "      <td>3.0</td>\n",
       "      <td>8.21</td>\n",
       "      <td>0</td>\n",
       "      <td>0.65</td>\n",
       "    </tr>\n",
       "  </tbody>\n",
       "</table>\n",
       "</div>"
      ],
      "text/plain": [
       "   Serial No.  GRE Score  TOEFL Score  University Rating  SOP  LOR   CGPA  \\\n",
       "0           1        337          118                  4  4.5   4.5  9.65   \n",
       "1           2        324          107                  4  4.0   4.5  8.87   \n",
       "2           3        316          104                  3  3.0   3.5  8.00   \n",
       "3           4        322          110                  3  3.5   2.5  8.67   \n",
       "4           5        314          103                  2  2.0   3.0  8.21   \n",
       "\n",
       "   Research  Chance of Admit   \n",
       "0         1              0.92  \n",
       "1         1              0.76  \n",
       "2         1              0.72  \n",
       "3         1              0.80  \n",
       "4         0              0.65  "
      ]
     },
     "execution_count": 12,
     "metadata": {},
     "output_type": "execute_result"
    }
   ],
   "source": [
    "path = os.path.join(os.getcwd(), \"data/Admission_Predict.csv\")\n",
    "df = pd.read_csv(path)\n",
    "df.head()"
   ]
  },
  {
   "cell_type": "code",
   "execution_count": 13,
   "metadata": {},
   "outputs": [
    {
     "name": "stdout",
     "output_type": "stream",
     "text": [
      "R2 =  0.7509928259756933\n",
      "R2 (norm) = 0.7523599677299028\n",
      "R2 (std) = 0.8090489285228912\n"
     ]
    }
   ],
   "source": [
    "X = df[[\"CGPA\", \"GRE Score\"]]\n",
    "y = df[[\"Chance of Admit \"]]\n",
    "\n",
    "X_train, X_test, y_train, y_test = train_test_split(X,y,test_size=0.2,random_state=30)\n",
    "\n",
    "X_train_norm = MinMaxScaler().fit_transform(X_train)\n",
    "X_test_norm = MinMaxScaler().fit_transform(X_test)\n",
    "X_train_std = StandardScaler().fit_transform(X_train)\n",
    "X_test_std = StandardScaler().fit_transform(X_test)\n",
    "\n",
    "lm = neighbors.KNeighborsRegressor(n_neighbors=5)\n",
    "lm.fit(X_train, y_train)\n",
    "predictions = lm.predict(X_test)\n",
    "print(\"R2 = \", lm.score(X_test, y_test))\n",
    "\n",
    "lm.fit(X_train_norm, y_train)\n",
    "predictions2 = lm.predict(X_test_norm)\n",
    "print(\"R2 (norm) =\",lm.score(X_test_norm,y_test))\n",
    "\n",
    "lm.fit(X_train_std, y_train)\n",
    "predictions3 = lm.predict(X_test_std)\n",
    "print(\"R2 (std) =\",lm.score(X_test_std,y_test))"
   ]
  },
  {
   "cell_type": "markdown",
   "metadata": {},
   "source": [
    "We can see that we got slightly better performance using standardized features.\n",
    "\n",
    "For completeness, we stress that predictions are now not in any one line (we are not doing linear regression) but spread like this:"
   ]
  },
  {
   "cell_type": "code",
   "execution_count": 14,
   "metadata": {},
   "outputs": [
    {
     "data": {
      "image/png": "[encoded data removed]",
      "text/plain": [
       "<Figure size 1600x600 with 1 Axes>"
      ]
     },
     "metadata": {},
     "output_type": "display_data"
    }
   ],
   "source": [
    "fig = plt.figure(figsize=(16,6))\n",
    "ax = fig.add_subplot(111, projection='3d')\n",
    "\n",
    "ax.scatter(np.array(X_test[['CGPA']]),np.array(X_test[['GRE Score']]),predictions)\n",
    "ax.set_xlabel('CGPA')\n",
    "ax.set_ylabel('GRE Score')\n",
    "ax.set_zlabel('Chance of Admit')\n",
    "plt.show()"
   ]
  },
  {
   "cell_type": "markdown",
   "metadata": {},
   "source": [
    "## Decision trees\n",
    "\n",
    "\n",
    "Decision trees are most often applied to classification problems although they can be used for regression too with appropriate modifications.\n",
    "\n",
    "A decision tree is a tree shaped diagram consisting of nodes and branches to make a decision. Leaves are at the very bottom of the tree. \n",
    "\n",
    "Starting from original full dataset we make a sequence of decisions and split the dataset into smaller parts. Eventually, at leaf nodes, there is nothing to split and we are done. This process leads us to some key terms in decision trees:\n",
    "\n",
    "- **entropy** = amount of randomness (or unpredicatability) in a dataset.\n",
    "- **information gain** = decrease in entropy after splitting a dataset.\n",
    "- **Gini index** = value between 0 and 1 where 0 means that all elements belong to same class and 1 means that all elements are randomly distributed across various classes. So larger values indicate more randomness or impurity.\n",
    "\n",
    "At the beginning, entropy is high in the original dataset. After several splits the entropy decreases and we gain more information.\n",
    "\n",
    "Actual formula to compute entropy of a data set\n",
    "\n",
    "$$ E = - \\sum P_i log_2 P_i $$\n",
    "\n",
    "where $P_i$ is the probability of sample taking on $i^{th}$ value. For example, consider the following datasets consisting of red ,blue, green and yellow marbles. Both sets contain 16 marbles.\n",
    "\n",
    "|  | set 1  | set 2 |\n",
    "|--     |-- |--     |\n",
    "|red    | 4 | 1 |\n",
    "|blue   | 4 | 1 |\n",
    "|green  | 4 | 7 |\n",
    "|yellow | 4 | 7 |\n",
    "\n",
    " - **Set 1** has the entropy score of \n",
    "$$ E = -( \\frac{1}{4}log_2 \\frac{1}{4} + \\frac{1}{4}log_2 \\frac{1}{4} + \\frac{1}{4}log_2 \\frac{1}{4} + \\frac{1}{4}log_2 \\frac{1}{4} ) = 2 $$\n",
    "\n",
    "- **Set 2** has the entropy score of\n",
    "$$ E = -( \\frac{1}{16}log_2 \\frac{1}{16} + \\frac{1}{16}log_2 \\frac{1}{16} + \\frac{7}{16}log_2 \\frac{7}{16} + \\frac{7}{16}log_2 \\frac{7}{16} ) = 1.544 $$\n",
    "\n",
    "For **Gini index** the formula is:\n",
    "\n",
    "$$ G = 1 - \\sum P_i^2 $$ \n",
    "\n",
    "In the above problem set 1 has  $ G = 1- 4(\\frac{1}{16}) = 0.75 $  and set 2 has $ G = 0.61 $. So again, set 1 contains more impurities.\n",
    "\n",
    "These measures of impurity and randomness can be used to construct a decision tree in an optimal manner. More precisely, they help us pick the features which decreases entropy the most first.\n",
    "\n",
    "## Decision trees in python\n",
    "\n",
    "To illustrate the use of decision tree algorithm for a classification problem, we are going to use the Banknote authentication dataset from UCI concerning genuine and forged bank notes."
   ]
  },
  {
   "cell_type": "code",
   "execution_count": 15,
   "metadata": {},
   "outputs": [],
   "source": [
    "import pandas as pd\n",
    "import os\n",
    "from sklearn.metrics import classification_report, confusion_matrix\n",
    "from sklearn.tree import DecisionTreeClassifier, export_graphviz\n",
    "from sklearn.model_selection import train_test_split\n",
    "import graphviz"
   ]
  },
  {
   "cell_type": "code",
   "execution_count": 16,
   "metadata": {},
   "outputs": [
    {
     "data": {
      "text/html": [
       "<div>\n",
       "<style scoped>\n",
       "    .dataframe tbody tr th:only-of-type {\n",
       "        vertical-align: middle;\n",
       "    }\n",
       "\n",
       "    .dataframe tbody tr th {\n",
       "        vertical-align: top;\n",
       "    }\n",
       "\n",
       "    .dataframe thead th {\n",
       "        text-align: right;\n",
       "    }\n",
       "</style>\n",
       "<table border=\"1\" class=\"dataframe\">\n",
       "  <thead>\n",
       "    <tr style=\"text-align: right;\">\n",
       "      <th></th>\n",
       "      <th>variance</th>\n",
       "      <th>skewness</th>\n",
       "      <th>curtosis</th>\n",
       "      <th>entropy</th>\n",
       "      <th>class</th>\n",
       "    </tr>\n",
       "  </thead>\n",
       "  <tbody>\n",
       "    <tr>\n",
       "      <th>0</th>\n",
       "      <td>3.62160</td>\n",
       "      <td>8.6661</td>\n",
       "      <td>-2.8073</td>\n",
       "      <td>-0.44699</td>\n",
       "      <td>0</td>\n",
       "    </tr>\n",
       "    <tr>\n",
       "      <th>1</th>\n",
       "      <td>4.54590</td>\n",
       "      <td>8.1674</td>\n",
       "      <td>-2.4586</td>\n",
       "      <td>-1.46210</td>\n",
       "      <td>0</td>\n",
       "    </tr>\n",
       "    <tr>\n",
       "      <th>2</th>\n",
       "      <td>3.86600</td>\n",
       "      <td>-2.6383</td>\n",
       "      <td>1.9242</td>\n",
       "      <td>0.10645</td>\n",
       "      <td>0</td>\n",
       "    </tr>\n",
       "    <tr>\n",
       "      <th>3</th>\n",
       "      <td>3.45660</td>\n",
       "      <td>9.5228</td>\n",
       "      <td>-4.0112</td>\n",
       "      <td>-3.59440</td>\n",
       "      <td>0</td>\n",
       "    </tr>\n",
       "    <tr>\n",
       "      <th>4</th>\n",
       "      <td>0.32924</td>\n",
       "      <td>-4.4552</td>\n",
       "      <td>4.5718</td>\n",
       "      <td>-0.98880</td>\n",
       "      <td>0</td>\n",
       "    </tr>\n",
       "  </tbody>\n",
       "</table>\n",
       "</div>"
      ],
      "text/plain": [
       "   variance  skewness  curtosis  entropy  class\n",
       "0   3.62160    8.6661   -2.8073 -0.44699      0\n",
       "1   4.54590    8.1674   -2.4586 -1.46210      0\n",
       "2   3.86600   -2.6383    1.9242  0.10645      0\n",
       "3   3.45660    9.5228   -4.0112 -3.59440      0\n",
       "4   0.32924   -4.4552    4.5718 -0.98880      0"
      ]
     },
     "execution_count": 16,
     "metadata": {},
     "output_type": "execute_result"
    }
   ],
   "source": [
    "path = os.path.join(os.getcwd(), \"data/data_banknote_authentication.csv\")\n",
    "df = pd.read_csv(path)\n",
    "df.head()"
   ]
  },
  {
   "cell_type": "markdown",
   "metadata": {},
   "source": [
    "We use all the columns but the last as variables and `class` as target variable. Let's setup a decision tree classifier with a 80/20 split ratio."
   ]
  },
  {
   "cell_type": "code",
   "execution_count": 17,
   "metadata": {},
   "outputs": [
    {
     "name": "stdout",
     "output_type": "stream",
     "text": [
      "[[160   4]\n",
      " [  0 111]]\n",
      "              precision    recall  f1-score   support\n",
      "\n",
      "           0       1.00      0.98      0.99       164\n",
      "           1       0.97      1.00      0.98       111\n",
      "\n",
      "    accuracy                           0.99       275\n",
      "   macro avg       0.98      0.99      0.98       275\n",
      "weighted avg       0.99      0.99      0.99       275\n",
      "\n"
     ]
    }
   ],
   "source": [
    "X = df.drop('class', axis=1)\n",
    "y = df['class']\n",
    "\n",
    "X_train, X_test, y_train, y_test = train_test_split(X, y, test_size=0.20,random_state=11)\n",
    "\n",
    "classifier = DecisionTreeClassifier()\n",
    "classifier.fit(X_train, y_train)\n",
    "y_pred = classifier.predict(X_test)\n",
    "\n",
    "print(confusion_matrix(y_test, y_pred))\n",
    "print(classification_report(y_test, y_pred))"
   ]
  },
  {
   "cell_type": "markdown",
   "metadata": {},
   "source": [
    "We have a 99% accuracy and high precision and recall scores too."
   ]
  },
  {
   "cell_type": "code",
   "execution_count": 18,
   "metadata": {},
   "outputs": [
    {
     "data": {
      "text/plain": [
       "'output\\\\dtree.pdf'"
      ]
     },
     "execution_count": 18,
     "metadata": {},
     "output_type": "execute_result"
    }
   ],
   "source": [
    "dot_data = export_graphviz(classifier, out_file=None,\n",
    "            feature_names = X_train.columns,\n",
    "            filled = True, rounded = True, special_characters = True)\n",
    "graph = graphviz.Source(dot_data)\n",
    "graph.render(\"output/dtree\")"
   ]
  },
  {
   "cell_type": "markdown",
   "metadata": {},
   "source": [
    "![dtree01](../Artificial%20Intelligence%20with%20Python/pics/dtree01.png)\n",
    "\n",
    "Diagram shows how nodes make decisions based on feature values and how Gini score decreases toward the leaves of the tree.\n",
    "\n",
    "**Gini** index is the **default** criterion in sklearn. We can also use the **entropy** and in addition, specify the maximum depth of the tree. Example:"
   ]
  },
  {
   "cell_type": "code",
   "execution_count": 19,
   "metadata": {},
   "outputs": [
    {
     "name": "stdout",
     "output_type": "stream",
     "text": [
      "[[157   7]\n",
      " [  4 107]]\n",
      "              precision    recall  f1-score   support\n",
      "\n",
      "           0       0.98      0.96      0.97       164\n",
      "           1       0.94      0.96      0.95       111\n",
      "\n",
      "    accuracy                           0.96       275\n",
      "   macro avg       0.96      0.96      0.96       275\n",
      "weighted avg       0.96      0.96      0.96       275\n",
      "\n"
     ]
    },
    {
     "data": {
      "text/plain": [
       "'output\\\\dtree2.pdf'"
      ]
     },
     "execution_count": 19,
     "metadata": {},
     "output_type": "execute_result"
    }
   ],
   "source": [
    "classifier = DecisionTreeClassifier(criterion=\"entropy\",max_depth=4)\n",
    "classifier.fit(X_train, y_train)\n",
    "y_pred = classifier.predict(X_test)\n",
    "\n",
    "print(confusion_matrix(y_test, y_pred))\n",
    "print(classification_report(y_test, y_pred))\n",
    "\n",
    "dot_data = export_graphviz(classifier, out_file=None,\n",
    "            feature_names = X_train.columns,\n",
    "            filled = True, rounded = True, special_characters = True)\n",
    "graph = graphviz.Source(dot_data)\n",
    "graph.render(\"output/dtree2\")"
   ]
  },
  {
   "cell_type": "markdown",
   "metadata": {},
   "source": [
    "The result is slightly worse but the diagram is easier to interpret\n",
    "\n",
    "![dtree02](../Artificial%20Intelligence%20with%20Python/pics/dtree02.png)"
   ]
  },
  {
   "cell_type": "markdown",
   "metadata": {},
   "source": [
    "## Text data preparation, email spam classification\n",
    "\n",
    "Text data (full sentences) has to be converted to numerical format before it can be used in machine learning. This is achieved by tokenizing the text, ie. parsing individual words from the text and assign them a numerical value for each word. In the simplest form, this is the word count or frequency. This approach does not pay any attention to the order in which words appear in the text; only count and frequency is stored.\n",
    "\n",
    "Slearn provides a few convenient function for this purpose."
   ]
  },
  {
   "cell_type": "code",
   "execution_count": 20,
   "metadata": {},
   "outputs": [
    {
     "name": "stdout",
     "output_type": "stream",
     "text": [
      "vocab :  {'the': 7, 'quick': 6, 'brown': 0, 'fox': 2, 'jumped': 3, 'over': 5, 'lazy': 4, 'dog': 1}\n"
     ]
    }
   ],
   "source": [
    "from sklearn.feature_extraction.text import CountVectorizer\n",
    "text = [\"The quick brown fox jumped over the lazy dog.\"]\n",
    "\n",
    "vectorizer = CountVectorizer()\n",
    "vectorizer.fit(text)\n",
    "\n",
    "print(\"vocab : \", vectorizer.vocabulary_)"
   ]
  },
  {
   "cell_type": "markdown",
   "metadata": {},
   "source": [
    "This shows the vocabulary in a python dictionary. Now any text can be encoded in numerical vector as follows"
   ]
  },
  {
   "cell_type": "code",
   "execution_count": 21,
   "metadata": {},
   "outputs": [
    {
     "name": "stdout",
     "output_type": "stream",
     "text": [
      "(1, 8)\n",
      "[[1 1 1 1 1 1 1 2]]\n"
     ]
    }
   ],
   "source": [
    "vector = vectorizer.transform(text)\n",
    "print(vector.shape)\n",
    "print(vector.toarray())"
   ]
  },
  {
   "cell_type": "code",
   "execution_count": 22,
   "metadata": {},
   "outputs": [
    {
     "name": "stdout",
     "output_type": "stream",
     "text": [
      "(1, 8)\n",
      "[[1 0 1 0 0 0 0 1]]\n"
     ]
    }
   ],
   "source": [
    "vector = vectorizer.transform([\"the brown fox and big puppy\"])\n",
    "print(vector.shape)\n",
    "print(vector.toarray())"
   ]
  },
  {
   "cell_type": "markdown",
   "metadata": {},
   "source": [
    "As a use case example in classifying text data, let's consider the problem of classifying email as spam and ham. We will use the SVM algorithm on a dataset containing emails and their know classes."
   ]
  },
  {
   "cell_type": "code",
   "execution_count": 23,
   "metadata": {},
   "outputs": [],
   "source": [
    "from sklearn.model_selection import train_test_split\n",
    "from sklearn.feature_extraction.text import CountVectorizer\n",
    "import pandas as pd\n",
    "import numpy as np\n",
    "import os\n",
    "from sklearn import svm\n",
    "from sklearn.metrics import confusion_matrix, classification_report"
   ]
  },
  {
   "cell_type": "code",
   "execution_count": 24,
   "metadata": {},
   "outputs": [
    {
     "name": "stdout",
     "output_type": "stream",
     "text": [
      "spam\n",
      "0    4360\n",
      "1    1368\n",
      "Name: count, dtype: int64\n"
     ]
    },
    {
     "data": {
      "text/html": [
       "<div>\n",
       "<style scoped>\n",
       "    .dataframe tbody tr th:only-of-type {\n",
       "        vertical-align: middle;\n",
       "    }\n",
       "\n",
       "    .dataframe tbody tr th {\n",
       "        vertical-align: top;\n",
       "    }\n",
       "\n",
       "    .dataframe thead th {\n",
       "        text-align: right;\n",
       "    }\n",
       "</style>\n",
       "<table border=\"1\" class=\"dataframe\">\n",
       "  <thead>\n",
       "    <tr style=\"text-align: right;\">\n",
       "      <th></th>\n",
       "      <th>text</th>\n",
       "      <th>spam</th>\n",
       "    </tr>\n",
       "  </thead>\n",
       "  <tbody>\n",
       "    <tr>\n",
       "      <th>0</th>\n",
       "      <td>Subject: naturally irresistible your corporate...</td>\n",
       "      <td>1</td>\n",
       "    </tr>\n",
       "    <tr>\n",
       "      <th>1</th>\n",
       "      <td>Subject: the stock trading gunslinger  fanny i...</td>\n",
       "      <td>1</td>\n",
       "    </tr>\n",
       "    <tr>\n",
       "      <th>2</th>\n",
       "      <td>Subject: unbelievable new homes made easy  im ...</td>\n",
       "      <td>1</td>\n",
       "    </tr>\n",
       "    <tr>\n",
       "      <th>3</th>\n",
       "      <td>Subject: 4 color printing special  request add...</td>\n",
       "      <td>1</td>\n",
       "    </tr>\n",
       "    <tr>\n",
       "      <th>4</th>\n",
       "      <td>Subject: do not have money , get software cds ...</td>\n",
       "      <td>1</td>\n",
       "    </tr>\n",
       "  </tbody>\n",
       "</table>\n",
       "</div>"
      ],
      "text/plain": [
       "                                                text  spam\n",
       "0  Subject: naturally irresistible your corporate...     1\n",
       "1  Subject: the stock trading gunslinger  fanny i...     1\n",
       "2  Subject: unbelievable new homes made easy  im ...     1\n",
       "3  Subject: 4 color printing special  request add...     1\n",
       "4  Subject: do not have money , get software cds ...     1"
      ]
     },
     "execution_count": 24,
     "metadata": {},
     "output_type": "execute_result"
    }
   ],
   "source": [
    "path = os.path.join( os.getcwd(), \"data/emails.csv\")\n",
    "df = pd.read_csv(path)\n",
    "print(df.spam.value_counts())\n",
    "df.head()"
   ]
  },
  {
   "cell_type": "markdown",
   "metadata": {},
   "source": [
    "Let's prepare the data"
   ]
  },
  {
   "cell_type": "code",
   "execution_count": 25,
   "metadata": {},
   "outputs": [],
   "source": [
    "X = df.text\n",
    "y = df.spam\n",
    "\n",
    "X_train, X_test, y_train, y_test = train_test_split(X,y, test_size=0.2, random_state=10)"
   ]
  },
  {
   "cell_type": "markdown",
   "metadata": {},
   "source": [
    "Next encode training and testing texts into numerical vectors. Using `stop_words` in english ignores common words like \"the\", \"and\" etc from the vocabulary."
   ]
  },
  {
   "cell_type": "code",
   "execution_count": 26,
   "metadata": {},
   "outputs": [],
   "source": [
    "vect = CountVectorizer(stop_words=\"english\")\n",
    "vect.fit(X_train)\n",
    "X_train_df = vect.transform(X_train)\n",
    "X_test_df = vect.transform(X_test)"
   ]
  },
  {
   "cell_type": "markdown",
   "metadata": {},
   "source": [
    "Let's train and test the prediction model with SVM."
   ]
  },
  {
   "cell_type": "code",
   "execution_count": 27,
   "metadata": {},
   "outputs": [
    {
     "name": "stdout",
     "output_type": "stream",
     "text": [
      "[[859   2]\n",
      " [ 24 261]]\n",
      "              precision    recall  f1-score   support\n",
      "\n",
      "    not spam       0.97      1.00      0.99       861\n",
      "        spam       0.99      0.92      0.95       285\n",
      "\n",
      "    accuracy                           0.98      1146\n",
      "   macro avg       0.98      0.96      0.97      1146\n",
      "weighted avg       0.98      0.98      0.98      1146\n",
      "\n"
     ]
    }
   ],
   "source": [
    "model = svm.SVC()\n",
    "model.fit(X_train_df,y_train)\n",
    "y_pred = model.predict(X_test_df)\n",
    "print(confusion_matrix(y_test, y_pred))\n",
    "print(classification_report(y_test, y_pred,target_names=[\"not spam\",\"spam\"]))"
   ]
  },
  {
   "cell_type": "markdown",
   "metadata": {},
   "source": [
    "Checking some correctly prediction of spam and ham."
   ]
  },
  {
   "cell_type": "code",
   "execution_count": 28,
   "metadata": {},
   "outputs": [
    {
     "name": "stdout",
     "output_type": "stream",
     "text": [
      "Not spam: (10 first..) [2507 3886 3330 5613 2357 5547 3169 3471 1858 4788]\n",
      "Not spam sample = Subject: re : thanks !  karin ,  i talked to mike roberts ( the head of the whole weather team ) , and he is  saying that all expenses for tony should be charged to global products team .  this is agreed between vince and jeff shankman .  mike and vince are negotiating with john to put stephen ( or somebody who will  replace him ) to some other cost centres ( via research ) .  it looks like kevin moore is happy if stephen is charged to the same cost  centre as tony .  let us right now charge tony and stephen to the cost centre below .  please , could we charge them separately - when john and vince make their  decision , we should be able to re - charge .  many thanks ,  slava  enron capital & trade resources  canada corp .  from : karin ahamer @ enron 18 / 04 / 2001 15 : 06  to : tani nath / lon / ect @ ect , viacheslav danilov / lon / ect @ ect  cc :  subject : re : thanks !  tani / slava  could you please let me know which costcentre i can bill for any charges  relating to tony and stephen .  thx karin  - - - - - - - - - - - - - - - - - - - - - - forwarded by karin ahamer / eu / enron on 18 / 04 / 2001 15 : 04  - - - - - - - - - - - - - - - - - - - - - - - - - - -  enron capital & trade resources corp .  from : stephen bennett 18 / 04 / 2001 12 : 14  to : karin ahamer / eu / enron @ enron  cc :  subject : re : thanks !  - - - - - - - - - - - - - - - - - - - - - - forwarded by stephen bennett / na / enron on 04 / 18 / 2001  06 : 11 am - - - - - - - - - - - - - - - - - - - - - - - - - - -  kevin g moore @ ect  04 / 18 / 2001 06 : 11 am  to : stephen bennett / na / enron @ enron  cc :  subject : re : thanks !  r . c . 107043  co . # 0413  stephen , all charges for soft ware that you use in london  should be charged to the same cost center as tony hamilton ,  reason being , is that someone will replace you in that position .  thanks  kevin moore  enron north america corp .  from : stephen bennett @ enron 04 / 18 / 2001 05 : 08 am  to : karin ahamer / eu / enron @ enron  cc : kevin g moore / hou / ect @ ect  subject : re : thanks !  you can cost it to my group in houston . kevin moore has the proper number  enron capital & trade resources  canada corp .  from : karin ahamer 04 / 18 / 2001 05 : 06 am  to : kevin g moore / hou / ect @ ect  cc : tony hamilton / eu / enron @ enron , mike a roberts / hou / ect @ ect , stephen  bennett / na / enron @ enron , tani nath / lon / ect @ ect  subject : re : thanks !  kevin  do you know whose costcentre the microsoft frontpage is supposed to go on ?  thx karin  enron capital & trade resources corp .  from : stephen bennett 18 / 04 / 2001 10 : 10  to : karin ahamer / eu / enron @ enron  cc : kevin g moore / hou / ect @ ect , tony hamilton / eu / enron @ enron , mike a  roberts / hou / ect @ ect  subject : thanks !  hi karin . . .  i hope you had a splendid holiday ! i wanted to thank you for getting tony  and i set up here last week . we seem to have established a steady daily  routine and are supporting several different trading groups in london as well  as continuing our daily support of traders in houston . we ' ve gotten far more  requests for information than we expected , so as a result i will be remaining  in london a little longer than originally expected . as of now - i ' m not sure  exactly when i ' ll be going back to houston - but vince has let me know that i  will remain here as long as necessary to ensure adequate daily weather  support for the london traders .  to that end - i think i will need one additional piece of software installed  on the machine that i will be using on a regular basis . could i please get  microsoft frontpage installed as soon as we can get it ?  that leads to the second issue of desks . i know that space is a premium here  - and i understand that i may need to move around some as a result . i  certainly want keep things as simple as possible for everyone - but i also  wanted to make sure that you know that there are certain applications that  are essential for the daily trader support in london and houston . as such ,  if i move , we will need to make sure that these applications are available  from the beginning of the day ( we start about 0600 ) . the applications are :  1 ) adobe acrobat - full version  2 ) accuweather for windows - ( this is something i will need to install )  3 ) microsoft front page  4 ) terminal server  5 ) the full ms office software package  one idea would be to have a pc move with me - that way we would not need to  reinstall this software which could cause problems with the daily support  routine .  thanks again for all of your help . i will let you know - once i know - how  long i will be here . i should hear something from vince over the next few  days giving me an idea .  cheers ,  steve  stephen bennett  senior meteorologist  enron research  temporarily in london : ext 3 - 4761  otherwise : ( 713 ) 345 - 3661\n",
      "Not spam sample = Subject: re : full version  i read the chapter . generally ,  i like it , and find it non - controversial  and well written . of course , this is  a huge topic and there are things  that you haven ' t discussed .  i thought the amount of attention  paid to ols and mle estimation  was a bit overboard , given that you  didn ' t really exploit it in your  results . if you were to state  the likelihood function for  the garch model , it might justify  the amount of attention to  gave to estimation for  simple iid processes , which could then  be thought of as a simple lead - in  and intuition builder to  the more interesting models that  you do actually use .  by the way , in your discussion of  smiles , you discuss fat tails  extensively . at least for equity markets ,  while fat tails contribute , they don ' t do very  much at all compared to the effect  of risk premia , which you allude to briefly ,  using supply - demand language , at the  end of that section .  for the impact of risk premia , see  jun pan ' s paper , which is available  from her web page . but she covers  only sp 500 , ( as do most studies ) ,  and your markets are obviously much different .  the chapter will be a good service to your readers !  best , darrell  > x - lotus - fromdomain : ect  > from : \" vince j kaminski \"  > to : darrell duffie  > cc : \" grant masson \" , \" vince j kaminski \"  > date : wed , 16 aug 2000 16 : 37 : 53 - 0500  > subject : re : full version  > mime - version : 1 . 0  > content - disposition : inline  > x - uidl : 00453 eda 98 c 82 d 709 e 6123 af 537 e 4 f 63  > x - keywords :  >  >  >  > darrell ,  >  > thanks a lot . i really appreciate it . the text is below our usual  > standards but we are completely swamped with work here .  >  > vince  >  >  >  >  >  >  >  > darrell duffie on 08 / 15 / 2000 04 : 54 : 23 pm  >  > please respond to darrell duffie  >  > to : vince . j . kaminski @ enron . com  > cc :  > subject : re : full version  >  >  > i ' ll have a look !  >  > i haven ' t much time , but can certainly  > get you a quick reaction , at least !  >  > best , darrell  >  >  > > x - lotus - fromdomain : ect  > > from : \" vince j kaminski \"  > > to : duffie @ stanford . edu  > > date : thu , 10 aug 2000 14 : 04 : 47 - 0500  > > subject : full version  > > mime - version : 1 . 0  > > content - disposition : inline  > > x - uidl : 9 fef 7462 afa 5 d 4 ee 6 co 4 c 9 co 2 df 71 b 25  > > x - keywords :  > >  > >  > >  > > darrell ,  > >  > > grant just alerted me that i sent you only part of the text .  > >  > > here is the full chapter with an aged version of gran ' t part .  > > what i sent you represents an update of his contribution .  > >  > > sorry for that .  > >  > > vince  > >  > > ( see attached file : volo 720 . doc )  >  > _ _ _ _ _ _ _ _ _ _ _ _ _ _ _ _ _ _ _ _ _ _ _ _ _ _ _ _ _ _ _ _ _ _ _ _ _ _ _ _ _ _ _ _ _  > darrell duffie  > mail gsb stanford ca 94305 - 5015 usa  > phone 650 723 1976  > fax 650 725 7979  > email duffie @ stanford . edu  > web http : / / www . stanford . edu / ~ duffie /  > _ _ _ _ _ _ _ _ _ _ _ _ _ _ _ _ _ _ _ _ _ _ _ _ _ _ _ _ _ _ _ _ _ _ _ _ _ _ _ _ _ _ _ _ _  >  >  >  >  >  >  >  darrell duffie  mail gsb stanford ca 94305 - 5015 usa  phone 650 723 1976  fax 650 725 7979  email duffie @ stanford . edu  web http : / / www . stanford . edu / ~ duffie / \n",
      "\n",
      "spam: (10 first..)  [   4  341 1301  693  595  720  688  204  774  674]\n",
      "spam sample = Subject: improve your size and your power  i ' ve been using your product for 4 months now . i ' ve increased my  length from 2  to nearly 6 . your product has saved my sex life . - matt , fl  my girlfriend loves the results , but she doesn ' t know what i do . she  thinks  it ' s natural - thomas , ca  pleasure your partner every time with a bigger , longer , stronger unit  realistic gains quickly  to be a stud press  here  at this rate i ' ll get home some time next year , he grumbled  oranjestad , aruba ,  po b 1200  oh ; i believe i ' ve heard of you , said the cab - horse ; but you are unlike  anything that i expected to seei do not doubt it , the sawhorse observed ,  with a tone of pride however , i suppose i ought to be glad the machine works  at all  and he really was glad \n",
      "spam sample = Subject: are you ready to get it ?  hello !  viagra is the # 1 med to struggle with mens ' erectile dysfunction .  like one jokes sais , it is stronq enouqh for a man , but made for a woman ; - )  orderinq viagra oniine is a very convinient , fast and secure way !  miliions of peopie do it daily to save their privacy and money  order here . . . \n"
     ]
    }
   ],
   "source": [
    "y_test2 = np.array(y_test)\n",
    "y_pred2 = np.array(y_pred)\n",
    "\n",
    "idx = np.logical_and(y_pred2 == 0, y_test2 == 0)\n",
    "spam0 = X_test[idx]\n",
    "print(\"Not spam: (10 first..)\",np.array(spam0.index)[:10])\n",
    "print(\"Not spam sample =\",X_test[3886])\n",
    "print(\"Not spam sample =\",X_test[5613])\n",
    "\n",
    "print()\n",
    "\n",
    "idx = np.logical_and(y_pred2 == 1, y_test2 == 1)\n",
    "spam = X_test[idx]\n",
    "print(\"spam: (10 first..) \",np.array(spam.index)[:10])\n",
    "print(\"spam sample =\",X_test[341])\n",
    "print(\"spam sample =\",X_test[774])"
   ]
  }
 ],
 "metadata": {
  "kernelspec": {
   "display_name": "base",
   "language": "python",
   "name": "python3"
  },
  "language_info": {
   "codemirror_mode": {
    "name": "ipython",
    "version": 3
   },
   "file_extension": ".py",
   "mimetype": "text/x-python",
   "name": "python",
   "nbconvert_exporter": "python",
   "pygments_lexer": "ipython3",
   "version": "3.11.9"
  }
 },
 "nbformat": 4,
 "nbformat_minor": 2
}
